{
 "cells": [
  {
   "attachments": {},
   "cell_type": "markdown",
   "id": "82585cdd",
   "metadata": {},
   "source": [
    "# Boilerplate"
   ]
  },
  {
   "cell_type": "code",
   "execution_count": 1,
   "id": "3d8c1936",
   "metadata": {},
   "outputs": [
    {
     "data": {
      "text/html": [
       "<div>\n",
       "<style scoped>\n",
       "    .dataframe tbody tr th:only-of-type {\n",
       "        vertical-align: middle;\n",
       "    }\n",
       "\n",
       "    .dataframe tbody tr th {\n",
       "        vertical-align: top;\n",
       "    }\n",
       "\n",
       "    .dataframe thead th {\n",
       "        text-align: right;\n",
       "    }\n",
       "</style>\n",
       "<table border=\"1\" class=\"dataframe\">\n",
       "  <thead>\n",
       "    <tr style=\"text-align: right;\">\n",
       "      <th></th>\n",
       "      <th>UserId</th>\n",
       "      <th>ProductId</th>\n",
       "      <th>Rating</th>\n",
       "      <th>Timestamp</th>\n",
       "    </tr>\n",
       "  </thead>\n",
       "  <tbody>\n",
       "    <tr>\n",
       "      <th>0</th>\n",
       "      <td>A39HTATAQ9V7YF</td>\n",
       "      <td>0205616461</td>\n",
       "      <td>5.0</td>\n",
       "      <td>1369699200</td>\n",
       "    </tr>\n",
       "    <tr>\n",
       "      <th>1</th>\n",
       "      <td>A3JM6GV9MNOF9X</td>\n",
       "      <td>0558925278</td>\n",
       "      <td>3.0</td>\n",
       "      <td>1355443200</td>\n",
       "    </tr>\n",
       "    <tr>\n",
       "      <th>2</th>\n",
       "      <td>A1Z513UWSAAO0F</td>\n",
       "      <td>0558925278</td>\n",
       "      <td>5.0</td>\n",
       "      <td>1404691200</td>\n",
       "    </tr>\n",
       "    <tr>\n",
       "      <th>3</th>\n",
       "      <td>A1WMRR494NWEWV</td>\n",
       "      <td>0733001998</td>\n",
       "      <td>4.0</td>\n",
       "      <td>1382572800</td>\n",
       "    </tr>\n",
       "    <tr>\n",
       "      <th>4</th>\n",
       "      <td>A3IAAVS479H7M7</td>\n",
       "      <td>0737104473</td>\n",
       "      <td>1.0</td>\n",
       "      <td>1274227200</td>\n",
       "    </tr>\n",
       "  </tbody>\n",
       "</table>\n",
       "</div>"
      ],
      "text/plain": [
       "           UserId   ProductId  Rating   Timestamp\n",
       "0  A39HTATAQ9V7YF  0205616461     5.0  1369699200\n",
       "1  A3JM6GV9MNOF9X  0558925278     3.0  1355443200\n",
       "2  A1Z513UWSAAO0F  0558925278     5.0  1404691200\n",
       "3  A1WMRR494NWEWV  0733001998     4.0  1382572800\n",
       "4  A3IAAVS479H7M7  0737104473     1.0  1274227200"
      ]
     },
     "execution_count": 1,
     "metadata": {},
     "output_type": "execute_result"
    }
   ],
   "source": [
    "import pandas as pd\n",
    "import numpy as np\n",
    "import time\n",
    "df = pd.read_csv('ratings_Beauty.csv')\n",
    "df = df.dropna()\n",
    "df.head()"
   ]
  },
  {
   "cell_type": "code",
   "execution_count": 7,
   "id": "0f8ec11c",
   "metadata": {},
   "outputs": [
    {
     "name": "stdout",
     "output_type": "stream",
     "text": [
      "                ProductId\n",
      "UserId                   \n",
      "A100WO06OQR8BQ         53\n",
      "A1047EDJ84IMAS         65\n",
      "A11I1I9QLMAM1A         72\n",
      "A132ETQPMHQ585         87\n",
      "A135SX8ESCQV9B         52\n"
     ]
    }
   ],
   "source": [
    "user_count = df[[\"ProductId\",\"UserId\"]].groupby(\"UserId\").count()\n",
    "user_count = user_count[user_count[\"ProductId\"] >= 50]\n",
    "print(user_count.head())"
   ]
  },
  {
   "cell_type": "code",
   "execution_count": 8,
   "id": "1e0056a4",
   "metadata": {},
   "outputs": [
    {
     "name": "stdout",
     "output_type": "stream",
     "text": [
      "            UserId\n",
      "ProductId         \n",
      "B00004TMFE      18\n",
      "B00004TUBL      12\n",
      "B00004U9UY      11\n",
      "B000050B6U      30\n",
      "B000052WYD      40\n"
     ]
    }
   ],
   "source": [
    "product_count = df[[\"ProductId\",\"UserId\"]].groupby(\"ProductId\").count()\n",
    "product_count = product_count[product_count[\"UserId\"] >= 10]\n",
    "print(product_count.head())"
   ]
  },
  {
   "cell_type": "code",
   "execution_count": 9,
   "id": "52899b65",
   "metadata": {},
   "outputs": [],
   "source": [
    "df = df[df[\"UserId\"].isin(user_count.index) & df[\"ProductId\"].isin(product_count.index)]"
   ]
  },
  {
   "cell_type": "code",
   "execution_count": 10,
   "id": "ffca5268",
   "metadata": {},
   "outputs": [
    {
     "data": {
      "text/html": [
       "<div>\n",
       "<style scoped>\n",
       "    .dataframe tbody tr th:only-of-type {\n",
       "        vertical-align: middle;\n",
       "    }\n",
       "\n",
       "    .dataframe tbody tr th {\n",
       "        vertical-align: top;\n",
       "    }\n",
       "\n",
       "    .dataframe thead th {\n",
       "        text-align: right;\n",
       "    }\n",
       "</style>\n",
       "<table border=\"1\" class=\"dataframe\">\n",
       "  <thead>\n",
       "    <tr style=\"text-align: right;\">\n",
       "      <th></th>\n",
       "      <th>UserId</th>\n",
       "      <th>ProductId</th>\n",
       "      <th>Rating</th>\n",
       "      <th>Timestamp</th>\n",
       "    </tr>\n",
       "  </thead>\n",
       "  <tbody>\n",
       "    <tr>\n",
       "      <th>2492</th>\n",
       "      <td>A2VOGNBUMXSW13</td>\n",
       "      <td>B00004TMFE</td>\n",
       "      <td>2.0</td>\n",
       "      <td>1357516800</td>\n",
       "    </tr>\n",
       "    <tr>\n",
       "      <th>3335</th>\n",
       "      <td>A3AZI828WJN1CD</td>\n",
       "      <td>B00004U9UY</td>\n",
       "      <td>4.0</td>\n",
       "      <td>1357344000</td>\n",
       "    </tr>\n",
       "    <tr>\n",
       "      <th>3450</th>\n",
       "      <td>A3S3R88HA0HZG3</td>\n",
       "      <td>B00004U9UY</td>\n",
       "      <td>5.0</td>\n",
       "      <td>1238544000</td>\n",
       "    </tr>\n",
       "    <tr>\n",
       "      <th>3881</th>\n",
       "      <td>A22CW0ZHY3NJH8</td>\n",
       "      <td>B000050B6U</td>\n",
       "      <td>2.0</td>\n",
       "      <td>1372896000</td>\n",
       "    </tr>\n",
       "    <tr>\n",
       "      <th>4303</th>\n",
       "      <td>AKMEY1BSHSDG7</td>\n",
       "      <td>B000052WYD</td>\n",
       "      <td>1.0</td>\n",
       "      <td>1384732800</td>\n",
       "    </tr>\n",
       "    <tr>\n",
       "      <th>...</th>\n",
       "      <td>...</td>\n",
       "      <td>...</td>\n",
       "      <td>...</td>\n",
       "      <td>...</td>\n",
       "    </tr>\n",
       "    <tr>\n",
       "      <th>2022169</th>\n",
       "      <td>A1Q1Z7IR79G52A</td>\n",
       "      <td>B00L3K91OW</td>\n",
       "      <td>5.0</td>\n",
       "      <td>1404345600</td>\n",
       "    </tr>\n",
       "    <tr>\n",
       "      <th>2022223</th>\n",
       "      <td>A1Q1Z7IR79G52A</td>\n",
       "      <td>B00L3LB0IG</td>\n",
       "      <td>5.0</td>\n",
       "      <td>1404345600</td>\n",
       "    </tr>\n",
       "    <tr>\n",
       "      <th>2022237</th>\n",
       "      <td>A1Q1Z7IR79G52A</td>\n",
       "      <td>B00L3LBUGI</td>\n",
       "      <td>5.0</td>\n",
       "      <td>1404345600</td>\n",
       "    </tr>\n",
       "    <tr>\n",
       "      <th>2022808</th>\n",
       "      <td>A390XPHE9J7DBO</td>\n",
       "      <td>B00L5KTZ0K</td>\n",
       "      <td>5.0</td>\n",
       "      <td>1405123200</td>\n",
       "    </tr>\n",
       "    <tr>\n",
       "      <th>2022809</th>\n",
       "      <td>A1Q1Z7IR79G52A</td>\n",
       "      <td>B00L5KTZ0K</td>\n",
       "      <td>5.0</td>\n",
       "      <td>1405296000</td>\n",
       "    </tr>\n",
       "  </tbody>\n",
       "</table>\n",
       "<p>10643 rows × 4 columns</p>\n",
       "</div>"
      ],
      "text/plain": [
       "                 UserId   ProductId  Rating   Timestamp\n",
       "2492     A2VOGNBUMXSW13  B00004TMFE     2.0  1357516800\n",
       "3335     A3AZI828WJN1CD  B00004U9UY     4.0  1357344000\n",
       "3450     A3S3R88HA0HZG3  B00004U9UY     5.0  1238544000\n",
       "3881     A22CW0ZHY3NJH8  B000050B6U     2.0  1372896000\n",
       "4303      AKMEY1BSHSDG7  B000052WYD     1.0  1384732800\n",
       "...                 ...         ...     ...         ...\n",
       "2022169  A1Q1Z7IR79G52A  B00L3K91OW     5.0  1404345600\n",
       "2022223  A1Q1Z7IR79G52A  B00L3LB0IG     5.0  1404345600\n",
       "2022237  A1Q1Z7IR79G52A  B00L3LBUGI     5.0  1404345600\n",
       "2022808  A390XPHE9J7DBO  B00L5KTZ0K     5.0  1405123200\n",
       "2022809  A1Q1Z7IR79G52A  B00L5KTZ0K     5.0  1405296000\n",
       "\n",
       "[10643 rows x 4 columns]"
      ]
     },
     "execution_count": 10,
     "metadata": {},
     "output_type": "execute_result"
    }
   ],
   "source": [
    "df"
   ]
  },
  {
   "cell_type": "code",
   "execution_count": 11,
   "id": "7a4aab14",
   "metadata": {},
   "outputs": [
    {
     "data": {
      "text/html": [
       "<div>\n",
       "<style scoped>\n",
       "    .dataframe tbody tr th:only-of-type {\n",
       "        vertical-align: middle;\n",
       "    }\n",
       "\n",
       "    .dataframe tbody tr th {\n",
       "        vertical-align: top;\n",
       "    }\n",
       "\n",
       "    .dataframe thead th {\n",
       "        text-align: right;\n",
       "    }\n",
       "</style>\n",
       "<table border=\"1\" class=\"dataframe\">\n",
       "  <thead>\n",
       "    <tr style=\"text-align: right;\">\n",
       "      <th>ProductId</th>\n",
       "      <th>B00004TMFE</th>\n",
       "      <th>B00004U9UY</th>\n",
       "      <th>B000050B6U</th>\n",
       "      <th>B000052WYD</th>\n",
       "      <th>B000052WYL</th>\n",
       "      <th>B000052WYN</th>\n",
       "      <th>B000052XW5</th>\n",
       "      <th>B000052XZP</th>\n",
       "      <th>B000052YJM</th>\n",
       "      <th>B000052YJX</th>\n",
       "      <th>...</th>\n",
       "      <th>B00KQVTX06</th>\n",
       "      <th>B00KTAJAIY</th>\n",
       "      <th>B00KTLBDYM</th>\n",
       "      <th>B00KTLBEEQ</th>\n",
       "      <th>B00KXG8JF4</th>\n",
       "      <th>B00L0C529Q</th>\n",
       "      <th>B00L3K91OW</th>\n",
       "      <th>B00L3LB0IG</th>\n",
       "      <th>B00L3LBUGI</th>\n",
       "      <th>B00L5KTZ0K</th>\n",
       "    </tr>\n",
       "    <tr>\n",
       "      <th>UserId</th>\n",
       "      <th></th>\n",
       "      <th></th>\n",
       "      <th></th>\n",
       "      <th></th>\n",
       "      <th></th>\n",
       "      <th></th>\n",
       "      <th></th>\n",
       "      <th></th>\n",
       "      <th></th>\n",
       "      <th></th>\n",
       "      <th></th>\n",
       "      <th></th>\n",
       "      <th></th>\n",
       "      <th></th>\n",
       "      <th></th>\n",
       "      <th></th>\n",
       "      <th></th>\n",
       "      <th></th>\n",
       "      <th></th>\n",
       "      <th></th>\n",
       "      <th></th>\n",
       "    </tr>\n",
       "  </thead>\n",
       "  <tbody>\n",
       "    <tr>\n",
       "      <th>A100WO06OQR8BQ</th>\n",
       "      <td>0</td>\n",
       "      <td>0</td>\n",
       "      <td>0</td>\n",
       "      <td>0</td>\n",
       "      <td>0</td>\n",
       "      <td>0</td>\n",
       "      <td>0</td>\n",
       "      <td>0</td>\n",
       "      <td>0</td>\n",
       "      <td>0</td>\n",
       "      <td>...</td>\n",
       "      <td>0</td>\n",
       "      <td>0</td>\n",
       "      <td>0</td>\n",
       "      <td>0</td>\n",
       "      <td>0</td>\n",
       "      <td>0</td>\n",
       "      <td>0</td>\n",
       "      <td>0</td>\n",
       "      <td>0</td>\n",
       "      <td>0</td>\n",
       "    </tr>\n",
       "    <tr>\n",
       "      <th>A1047EDJ84IMAS</th>\n",
       "      <td>0</td>\n",
       "      <td>0</td>\n",
       "      <td>0</td>\n",
       "      <td>0</td>\n",
       "      <td>0</td>\n",
       "      <td>0</td>\n",
       "      <td>0</td>\n",
       "      <td>0</td>\n",
       "      <td>0</td>\n",
       "      <td>0</td>\n",
       "      <td>...</td>\n",
       "      <td>0</td>\n",
       "      <td>0</td>\n",
       "      <td>0</td>\n",
       "      <td>0</td>\n",
       "      <td>0</td>\n",
       "      <td>0</td>\n",
       "      <td>0</td>\n",
       "      <td>0</td>\n",
       "      <td>0</td>\n",
       "      <td>0</td>\n",
       "    </tr>\n",
       "    <tr>\n",
       "      <th>A11I1I9QLMAM1A</th>\n",
       "      <td>0</td>\n",
       "      <td>0</td>\n",
       "      <td>0</td>\n",
       "      <td>0</td>\n",
       "      <td>0</td>\n",
       "      <td>0</td>\n",
       "      <td>0</td>\n",
       "      <td>0</td>\n",
       "      <td>0</td>\n",
       "      <td>0</td>\n",
       "      <td>...</td>\n",
       "      <td>0</td>\n",
       "      <td>0</td>\n",
       "      <td>0</td>\n",
       "      <td>0</td>\n",
       "      <td>0</td>\n",
       "      <td>0</td>\n",
       "      <td>0</td>\n",
       "      <td>0</td>\n",
       "      <td>0</td>\n",
       "      <td>0</td>\n",
       "    </tr>\n",
       "    <tr>\n",
       "      <th>A132ETQPMHQ585</th>\n",
       "      <td>0</td>\n",
       "      <td>0</td>\n",
       "      <td>0</td>\n",
       "      <td>0</td>\n",
       "      <td>0</td>\n",
       "      <td>0</td>\n",
       "      <td>0</td>\n",
       "      <td>0</td>\n",
       "      <td>0</td>\n",
       "      <td>0</td>\n",
       "      <td>...</td>\n",
       "      <td>0</td>\n",
       "      <td>0</td>\n",
       "      <td>0</td>\n",
       "      <td>0</td>\n",
       "      <td>0</td>\n",
       "      <td>0</td>\n",
       "      <td>0</td>\n",
       "      <td>0</td>\n",
       "      <td>0</td>\n",
       "      <td>0</td>\n",
       "    </tr>\n",
       "    <tr>\n",
       "      <th>A135SX8ESCQV9B</th>\n",
       "      <td>0</td>\n",
       "      <td>0</td>\n",
       "      <td>0</td>\n",
       "      <td>0</td>\n",
       "      <td>0</td>\n",
       "      <td>0</td>\n",
       "      <td>0</td>\n",
       "      <td>0</td>\n",
       "      <td>0</td>\n",
       "      <td>0</td>\n",
       "      <td>...</td>\n",
       "      <td>0</td>\n",
       "      <td>0</td>\n",
       "      <td>0</td>\n",
       "      <td>0</td>\n",
       "      <td>0</td>\n",
       "      <td>0</td>\n",
       "      <td>0</td>\n",
       "      <td>0</td>\n",
       "      <td>0</td>\n",
       "      <td>0</td>\n",
       "    </tr>\n",
       "    <tr>\n",
       "      <th>...</th>\n",
       "      <td>...</td>\n",
       "      <td>...</td>\n",
       "      <td>...</td>\n",
       "      <td>...</td>\n",
       "      <td>...</td>\n",
       "      <td>...</td>\n",
       "      <td>...</td>\n",
       "      <td>...</td>\n",
       "      <td>...</td>\n",
       "      <td>...</td>\n",
       "      <td>...</td>\n",
       "      <td>...</td>\n",
       "      <td>...</td>\n",
       "      <td>...</td>\n",
       "      <td>...</td>\n",
       "      <td>...</td>\n",
       "      <td>...</td>\n",
       "      <td>...</td>\n",
       "      <td>...</td>\n",
       "      <td>...</td>\n",
       "      <td>...</td>\n",
       "    </tr>\n",
       "    <tr>\n",
       "      <th>AXK3KYH8NQ9G2</th>\n",
       "      <td>0</td>\n",
       "      <td>0</td>\n",
       "      <td>0</td>\n",
       "      <td>0</td>\n",
       "      <td>0</td>\n",
       "      <td>0</td>\n",
       "      <td>0</td>\n",
       "      <td>0</td>\n",
       "      <td>0</td>\n",
       "      <td>0</td>\n",
       "      <td>...</td>\n",
       "      <td>0</td>\n",
       "      <td>0</td>\n",
       "      <td>0</td>\n",
       "      <td>0</td>\n",
       "      <td>0</td>\n",
       "      <td>0</td>\n",
       "      <td>0</td>\n",
       "      <td>0</td>\n",
       "      <td>0</td>\n",
       "      <td>0</td>\n",
       "    </tr>\n",
       "    <tr>\n",
       "      <th>AXYVSHTLWBINI</th>\n",
       "      <td>0</td>\n",
       "      <td>0</td>\n",
       "      <td>0</td>\n",
       "      <td>0</td>\n",
       "      <td>0</td>\n",
       "      <td>0</td>\n",
       "      <td>0</td>\n",
       "      <td>0</td>\n",
       "      <td>0</td>\n",
       "      <td>0</td>\n",
       "      <td>...</td>\n",
       "      <td>0</td>\n",
       "      <td>0</td>\n",
       "      <td>0</td>\n",
       "      <td>0</td>\n",
       "      <td>0</td>\n",
       "      <td>0</td>\n",
       "      <td>0</td>\n",
       "      <td>0</td>\n",
       "      <td>0</td>\n",
       "      <td>0</td>\n",
       "    </tr>\n",
       "    <tr>\n",
       "      <th>AY3D7DG5L5WCK</th>\n",
       "      <td>0</td>\n",
       "      <td>0</td>\n",
       "      <td>0</td>\n",
       "      <td>0</td>\n",
       "      <td>0</td>\n",
       "      <td>0</td>\n",
       "      <td>0</td>\n",
       "      <td>0</td>\n",
       "      <td>0</td>\n",
       "      <td>0</td>\n",
       "      <td>...</td>\n",
       "      <td>0</td>\n",
       "      <td>0</td>\n",
       "      <td>0</td>\n",
       "      <td>0</td>\n",
       "      <td>0</td>\n",
       "      <td>0</td>\n",
       "      <td>0</td>\n",
       "      <td>0</td>\n",
       "      <td>0</td>\n",
       "      <td>0</td>\n",
       "    </tr>\n",
       "    <tr>\n",
       "      <th>AYOMAHLWRQHUG</th>\n",
       "      <td>0</td>\n",
       "      <td>0</td>\n",
       "      <td>0</td>\n",
       "      <td>0</td>\n",
       "      <td>0</td>\n",
       "      <td>0</td>\n",
       "      <td>0</td>\n",
       "      <td>0</td>\n",
       "      <td>0</td>\n",
       "      <td>0</td>\n",
       "      <td>...</td>\n",
       "      <td>0</td>\n",
       "      <td>0</td>\n",
       "      <td>0</td>\n",
       "      <td>0</td>\n",
       "      <td>0</td>\n",
       "      <td>0</td>\n",
       "      <td>0</td>\n",
       "      <td>0</td>\n",
       "      <td>0</td>\n",
       "      <td>0</td>\n",
       "    </tr>\n",
       "    <tr>\n",
       "      <th>AZ9JPUSCI0V49</th>\n",
       "      <td>0</td>\n",
       "      <td>0</td>\n",
       "      <td>0</td>\n",
       "      <td>0</td>\n",
       "      <td>0</td>\n",
       "      <td>0</td>\n",
       "      <td>0</td>\n",
       "      <td>0</td>\n",
       "      <td>0</td>\n",
       "      <td>0</td>\n",
       "      <td>...</td>\n",
       "      <td>0</td>\n",
       "      <td>0</td>\n",
       "      <td>0</td>\n",
       "      <td>0</td>\n",
       "      <td>0</td>\n",
       "      <td>0</td>\n",
       "      <td>0</td>\n",
       "      <td>0</td>\n",
       "      <td>0</td>\n",
       "      <td>0</td>\n",
       "    </tr>\n",
       "  </tbody>\n",
       "</table>\n",
       "<p>211 rows × 2609 columns</p>\n",
       "</div>"
      ],
      "text/plain": [
       "ProductId       B00004TMFE  B00004U9UY  B000050B6U  B000052WYD  B000052WYL  \\\n",
       "UserId                                                                       \n",
       "A100WO06OQR8BQ           0           0           0           0           0   \n",
       "A1047EDJ84IMAS           0           0           0           0           0   \n",
       "A11I1I9QLMAM1A           0           0           0           0           0   \n",
       "A132ETQPMHQ585           0           0           0           0           0   \n",
       "A135SX8ESCQV9B           0           0           0           0           0   \n",
       "...                    ...         ...         ...         ...         ...   \n",
       "AXK3KYH8NQ9G2            0           0           0           0           0   \n",
       "AXYVSHTLWBINI            0           0           0           0           0   \n",
       "AY3D7DG5L5WCK            0           0           0           0           0   \n",
       "AYOMAHLWRQHUG            0           0           0           0           0   \n",
       "AZ9JPUSCI0V49            0           0           0           0           0   \n",
       "\n",
       "ProductId       B000052WYN  B000052XW5  B000052XZP  B000052YJM  B000052YJX  \\\n",
       "UserId                                                                       \n",
       "A100WO06OQR8BQ           0           0           0           0           0   \n",
       "A1047EDJ84IMAS           0           0           0           0           0   \n",
       "A11I1I9QLMAM1A           0           0           0           0           0   \n",
       "A132ETQPMHQ585           0           0           0           0           0   \n",
       "A135SX8ESCQV9B           0           0           0           0           0   \n",
       "...                    ...         ...         ...         ...         ...   \n",
       "AXK3KYH8NQ9G2            0           0           0           0           0   \n",
       "AXYVSHTLWBINI            0           0           0           0           0   \n",
       "AY3D7DG5L5WCK            0           0           0           0           0   \n",
       "AYOMAHLWRQHUG            0           0           0           0           0   \n",
       "AZ9JPUSCI0V49            0           0           0           0           0   \n",
       "\n",
       "ProductId       ...  B00KQVTX06  B00KTAJAIY  B00KTLBDYM  B00KTLBEEQ  \\\n",
       "UserId          ...                                                   \n",
       "A100WO06OQR8BQ  ...           0           0           0           0   \n",
       "A1047EDJ84IMAS  ...           0           0           0           0   \n",
       "A11I1I9QLMAM1A  ...           0           0           0           0   \n",
       "A132ETQPMHQ585  ...           0           0           0           0   \n",
       "A135SX8ESCQV9B  ...           0           0           0           0   \n",
       "...             ...         ...         ...         ...         ...   \n",
       "AXK3KYH8NQ9G2   ...           0           0           0           0   \n",
       "AXYVSHTLWBINI   ...           0           0           0           0   \n",
       "AY3D7DG5L5WCK   ...           0           0           0           0   \n",
       "AYOMAHLWRQHUG   ...           0           0           0           0   \n",
       "AZ9JPUSCI0V49   ...           0           0           0           0   \n",
       "\n",
       "ProductId       B00KXG8JF4  B00L0C529Q  B00L3K91OW  B00L3LB0IG  B00L3LBUGI  \\\n",
       "UserId                                                                       \n",
       "A100WO06OQR8BQ           0           0           0           0           0   \n",
       "A1047EDJ84IMAS           0           0           0           0           0   \n",
       "A11I1I9QLMAM1A           0           0           0           0           0   \n",
       "A132ETQPMHQ585           0           0           0           0           0   \n",
       "A135SX8ESCQV9B           0           0           0           0           0   \n",
       "...                    ...         ...         ...         ...         ...   \n",
       "AXK3KYH8NQ9G2            0           0           0           0           0   \n",
       "AXYVSHTLWBINI            0           0           0           0           0   \n",
       "AY3D7DG5L5WCK            0           0           0           0           0   \n",
       "AYOMAHLWRQHUG            0           0           0           0           0   \n",
       "AZ9JPUSCI0V49            0           0           0           0           0   \n",
       "\n",
       "ProductId       B00L5KTZ0K  \n",
       "UserId                      \n",
       "A100WO06OQR8BQ           0  \n",
       "A1047EDJ84IMAS           0  \n",
       "A11I1I9QLMAM1A           0  \n",
       "A132ETQPMHQ585           0  \n",
       "A135SX8ESCQV9B           0  \n",
       "...                    ...  \n",
       "AXK3KYH8NQ9G2            0  \n",
       "AXYVSHTLWBINI            0  \n",
       "AY3D7DG5L5WCK            0  \n",
       "AYOMAHLWRQHUG            0  \n",
       "AZ9JPUSCI0V49            0  \n",
       "\n",
       "[211 rows x 2609 columns]"
      ]
     },
     "execution_count": 11,
     "metadata": {},
     "output_type": "execute_result"
    }
   ],
   "source": [
    "ratings_matrix = df.pivot_table(values='Rating', index='UserId', columns='ProductId', fill_value=0)\n",
    "ratings_matrix"
   ]
  },
  {
   "cell_type": "code",
   "execution_count": 12,
   "id": "2ff10cda",
   "metadata": {},
   "outputs": [],
   "source": [
    "X = ratings_matrix"
   ]
  },
  {
   "attachments": {},
   "cell_type": "markdown",
   "id": "2e8f4a10",
   "metadata": {},
   "source": [
    "## Ground Truth - "
   ]
  },
  {
   "cell_type": "code",
   "execution_count": 41,
   "id": "cb1e57a2",
   "metadata": {},
   "outputs": [
    {
     "name": "stdout",
     "output_type": "stream",
     "text": [
      "0.23482012748718262\n"
     ]
    }
   ],
   "source": [
    "from sklearn.utils.extmath import randomized_svd\n",
    "start = time.time()\n",
    "U, Sigma, vh = randomized_svd(X, \n",
    "                              n_components=10,\n",
    "                              n_iter=50,\n",
    "                              random_state=None)\n",
    "print(time.time()-start)"
   ]
  },
  {
   "cell_type": "code",
   "execution_count": 42,
   "id": "840dc463",
   "metadata": {},
   "outputs": [],
   "source": [
    "product = np.dot(U,U.T)\n",
    "np.fill_diagonal(product,0)\n",
    "if (product.any() == 0):\n",
    "    print(\"orth\")"
   ]
  },
  {
   "cell_type": "code",
   "execution_count": 53,
   "id": "648549c6",
   "metadata": {},
   "outputs": [
    {
     "data": {
      "text/plain": [
       "array([160.78727336,  71.40096496,  66.76322024,  61.34508072,\n",
       "        59.96523173,  57.36243958,  53.39748437,  51.0637572 ,\n",
       "        50.27906774,  48.79593325])"
      ]
     },
     "execution_count": 53,
     "metadata": {},
     "output_type": "execute_result"
    }
   ],
   "source": [
    "a"
   ]
  },
  {
   "cell_type": "code",
   "execution_count": 54,
   "id": "f19228f6",
   "metadata": {},
   "outputs": [
    {
     "data": {
      "text/plain": [
       "-9.717670190669686e-17"
      ]
     },
     "execution_count": 54,
     "metadata": {},
     "output_type": "execute_result"
    }
   ],
   "source": [
    "np.dot(b[:,0],b[:,9])"
   ]
  },
  {
   "cell_type": "code",
   "execution_count": 45,
   "id": "145cdb60",
   "metadata": {},
   "outputs": [
    {
     "data": {
      "text/plain": [
       "False"
      ]
     },
     "execution_count": 45,
     "metadata": {},
     "output_type": "execute_result"
    }
   ],
   "source": [
    "def isOrthogonal(a, m, n) :\n",
    "    if (m != n) :\n",
    "        return False\n",
    "     \n",
    "    # Multiply A*A^t\n",
    "    for i in range(0, n) :\n",
    "        for j in range(0, n) :\n",
    "            sum = 0\n",
    "            for k in range(0, n) :\n",
    "         \n",
    "                # Since we are multiplying\n",
    "                # with transpose of itself.\n",
    "                # We use a[j][k] instead\n",
    "                # of a[k][j]\n",
    "                sum = sum + (a[i][k] *\n",
    "                             a[j][k])\n",
    "         \n",
    "        if (i == j and sum != 1) :\n",
    "            return False\n",
    "        if (i != j and sum != 0) :\n",
    "            return False\n",
    " \n",
    "    return True\n",
    "\n",
    "isOrthogonal(t[0],t[0].shape[0],t[0].shape[1])"
   ]
  },
  {
   "cell_type": "code",
   "execution_count": 63,
   "id": "525f6efb",
   "metadata": {},
   "outputs": [],
   "source": [
    "l = {\"power\":abs(np.trace(np.matmul(b.T, b) - np.eye(b.shape[1]))), \"sklearn\":abs(np.trace(np.matmul(U.T, U) - np.eye(U.shape[1]))), \"lanczos\":abs(np.trace(np.matmul(t[0].T, t[0]) - np.eye(t[0].shape[1])))}\n",
    "plt.bar(l.keys(), l.values(), color='g')\n",
    "# l.append(abs(np.trace(np.matmul(t[0].T, t[0]) - np.eye(t[0].shape[1]))))"
   ]
  },
  {
   "cell_type": "code",
   "execution_count": 59,
   "id": "caa21853",
   "metadata": {},
   "outputs": [],
   "source": [
    "l.append(abs(np.trace(np.matmul(b.T, b) - np.eye(b.shape[1]))))"
   ]
  },
  {
   "cell_type": "code",
   "execution_count": 60,
   "id": "314dc754",
   "metadata": {},
   "outputs": [],
   "source": [
    "l.append(abs(np.trace(np.matmul(U.T, U) - np.eye(U.shape[1]))))"
   ]
  },
  {
   "cell_type": "code",
   "execution_count": 66,
   "id": "6491df19",
   "metadata": {},
   "outputs": [
    {
     "data": {
      "text/plain": [
       "<BarContainer object of 3 artists>"
      ]
     },
     "execution_count": 66,
     "metadata": {},
     "output_type": "execute_result"
    },
    {
     "data": {
      "image/png": "[encoded data removed]",
      "text/plain": [
       "<Figure size 432x288 with 1 Axes>"
      ]
     },
     "metadata": {
      "needs_background": "light"
     },
     "output_type": "display_data"
    }
   ],
   "source": [
    "import matplotlib.pyplot as plt\n",
    "plt.bar(l.keys(), l.values(), color='g')"
   ]
  },
  {
   "cell_type": "code",
   "execution_count": 21,
   "id": "9763ff96",
   "metadata": {},
   "outputs": [],
   "source": [
    "lam_truth = Sigma[0]"
   ]
  },
  {
   "cell_type": "code",
   "execution_count": 22,
   "id": "956a5c00",
   "metadata": {},
   "outputs": [
    {
     "data": {
      "text/plain": [
       "array([ 1.53311174e-05,  1.13094790e-05,  1.06969806e-04,  1.81468730e-04,\n",
       "        5.16161295e-05,  6.48964993e-04, -1.31080795e-04,  8.08407781e-04,\n",
       "        2.38265633e-04,  1.82342664e-04])"
      ]
     },
     "execution_count": 22,
     "metadata": {},
     "output_type": "execute_result"
    }
   ],
   "source": [
    "vh[:,0]"
   ]
  },
  {
   "cell_type": "code",
   "execution_count": 28,
   "id": "abc9db94",
   "metadata": {},
   "outputs": [
    {
     "data": {
      "text/plain": [
       "array([ 2.68764676e-05,  1.98654358e-04,  3.74247845e-04,  1.13793359e-03,\n",
       "       -7.51103508e-04,  2.82049707e-04,  1.31439534e-05,  3.19938417e-04,\n",
       "        6.61986931e-05, -1.36734015e-04])"
      ]
     },
     "execution_count": 28,
     "metadata": {},
     "output_type": "execute_result"
    }
   ],
   "source": [
    "vh[:,1150]"
   ]
  },
  {
   "attachments": {},
   "cell_type": "markdown",
   "id": "14a252e7",
   "metadata": {},
   "source": [
    "# Generating recommendations -"
   ]
  },
  {
   "cell_type": "code",
   "execution_count": 163,
   "id": "5b8fbefe",
   "metadata": {},
   "outputs": [
    {
     "name": "stdout",
     "output_type": "stream",
     "text": [
      "Column 1069 is most similar to Input product\n"
     ]
    }
   ],
   "source": [
    "def cosine_similarity(v,u):\n",
    "    return (v @ u)/ (np.linalg.norm(v) * np.linalg.norm(u))\n",
    "\n",
    "input_product = 1\n",
    "\n",
    "highest_similarity = -np.inf\n",
    "highest_sim_col = -1\n",
    "for col in range(0,vh.shape[1]):\n",
    "    if col!=input_product:\n",
    "        similarity = cosine_similarity(vh[:,input_product], vh[:,col])\n",
    "        if similarity > highest_similarity:\n",
    "            highest_similarity = similarity\n",
    "            highest_sim_col = col\n",
    "\n",
    "print(f\"Column {highest_sim_col} is most similar to Input product\")"
   ]
  },
  {
   "cell_type": "code",
   "execution_count": null,
   "id": "5f79b703",
   "metadata": {},
   "outputs": [],
   "source": []
  },
  {
   "cell_type": "code",
   "execution_count": 162,
   "id": "82068f0c",
   "metadata": {},
   "outputs": [
    {
     "data": {
      "text/plain": [
       "<AxesSubplot:xlabel='UserId'>"
      ]
     },
     "execution_count": 162,
     "metadata": {},
     "output_type": "execute_result"
    },
    {
     "data": {
      "image/png": "[encoded data removed]",
      "text/plain": [
       "<Figure size 432x288 with 1 Axes>"
      ]
     },
     "metadata": {
      "needs_background": "light"
     },
     "output_type": "display_data"
    }
   ],
   "source": [
    "ratings_matrix[\"B00004TMFE\"].plot()"
   ]
  },
  {
   "cell_type": "code",
   "execution_count": 31,
   "id": "00d04ecb",
   "metadata": {},
   "outputs": [
    {
     "data": {
      "text/plain": [
       "<AxesSubplot:xlabel='UserId'>"
      ]
     },
     "execution_count": 31,
     "metadata": {},
     "output_type": "execute_result"
    },
    {
     "data": {
      "image/png": "[encoded data removed]",
      "text/plain": [
       "<Figure size 432x288 with 1 Axes>"
      ]
     },
     "metadata": {
      "needs_background": "light"
     },
     "output_type": "display_data"
    }
   ],
   "source": [
    "ratings_matrix.iloc[:,1150].plot()"
   ]
  },
  {
   "attachments": {},
   "cell_type": "markdown",
   "id": "1b6b3080",
   "metadata": {},
   "source": [
    "## 1. SVD using Power Iteration"
   ]
  },
  {
   "cell_type": "code",
   "execution_count": 49,
   "id": "89cf0a16",
   "metadata": {},
   "outputs": [],
   "source": [
    "from numpy.linalg import norm\n",
    "\n",
    "from random import normalvariate\n",
    "from math import sqrt\n",
    "\n",
    "\n",
    "def randomUnitVector(n):\n",
    "    unnormalized = [normalvariate(0, 1) for _ in range(n)]\n",
    "    theNorm = sqrt(sum(x * x for x in unnormalized))\n",
    "    return [x / theNorm for x in unnormalized]\n",
    "\n",
    "\n",
    "def svd_1d(A, epsilon=1e-10):\n",
    "    ''' The one-dimensional SVD '''\n",
    "    pow_lam = []\n",
    "    n, m = A.shape\n",
    "    x = randomUnitVector(min(n,m))\n",
    "    lastV = None\n",
    "    currentV = x\n",
    "\n",
    "    if n > m:\n",
    "        B = np.dot(A.T, A)\n",
    "    else:\n",
    "        B = np.dot(A, A.T)\n",
    "\n",
    "    iterations = 0\n",
    "    while True:\n",
    "        iterations += 1\n",
    "        lastV = currentV\n",
    "        currentV = np.dot(B, lastV)\n",
    "        currentV = currentV / norm(currentV)\n",
    "        lam = norm(np.dot(A.T, currentV))\n",
    "        pow_lam.append(abs(lam_truth-lam))\n",
    "        if abs(np.dot(currentV, lastV)) > 1 - epsilon:\n",
    "            print(\"converged in {} iterations!\".format(iterations))\n",
    "            return currentV, pow_lam\n",
    "\n",
    "\n",
    "def svd(A, k=None, epsilon=1e-10):\n",
    "    '''\n",
    "        Compute the singular value decomposition of a matrix A\n",
    "        using the power method. A is the input matrix, and k\n",
    "        is the number of singular values you wish to compute.\n",
    "        If k is None, this computes the full-rank decomposition.\n",
    "    '''\n",
    "    A = np.array(A, dtype=float)\n",
    "    n, m = A.shape\n",
    "    svdSoFar = []\n",
    "    if k is None:\n",
    "        k = min(n, m)\n",
    "\n",
    "    for i in range(k):\n",
    "        matrixFor1D = A.copy()\n",
    "\n",
    "        for singularValue, u, v in svdSoFar[:i]:\n",
    "            matrixFor1D -= singularValue * np.outer(u, v)\n",
    "\n",
    "        if n > m:\n",
    "            v, pow_lam = svd_1d(matrixFor1D, epsilon=epsilon)  # next singular vector\n",
    "            if i == 0:\n",
    "                pow_lam1 = pow_lam\n",
    "            u_unnormalized = np.dot(A, v)\n",
    "            sigma = norm(u_unnormalized)  # next singular value\n",
    "            u = u_unnormalized / sigma\n",
    "        else:\n",
    "            u, pow_lam = svd_1d(matrixFor1D, epsilon=epsilon)  # next singular vector\n",
    "            if i == 0:\n",
    "                pow_lam1 = pow_lam\n",
    "            v_unnormalized = np.dot(A.T, u)\n",
    "            sigma = norm(v_unnormalized)  # next singular value\n",
    "            v = v_unnormalized / sigma\n",
    "\n",
    "        svdSoFar.append((sigma, u, v))\n",
    "        print((sigma * np.outer(u, v)).shape)\n",
    "    \n",
    "    singularValues, us, vs = [np.array(x) for x in zip(*svdSoFar)]\n",
    "    return singularValues, us.T, vs, pow_lam1"
   ]
  },
  {
   "cell_type": "code",
   "execution_count": 50,
   "id": "77b0f0fd",
   "metadata": {},
   "outputs": [
    {
     "name": "stdout",
     "output_type": "stream",
     "text": [
      "converged in 9 iterations!\n",
      "(211, 2609)\n",
      "converged in 63 iterations!\n",
      "(211, 2609)\n",
      "converged in 57 iterations!\n",
      "(211, 2609)\n",
      "converged in 180 iterations!\n",
      "(211, 2609)\n",
      "converged in 80 iterations!\n",
      "(211, 2609)\n",
      "converged in 85 iterations!\n",
      "(211, 2609)\n",
      "converged in 94 iterations!\n",
      "(211, 2609)\n",
      "converged in 242 iterations!\n",
      "(211, 2609)\n",
      "converged in 151 iterations!\n",
      "(211, 2609)\n",
      "converged in 120 iterations!\n",
      "(211, 2609)\n",
      "0.2969520092010498\n"
     ]
    }
   ],
   "source": [
    "import time\n",
    "start = time.time()\n",
    "a,b,c,pow_errors = svd(X, 10)\n",
    "print(time.time()-start)"
   ]
  },
  {
   "attachments": {},
   "cell_type": "markdown",
   "id": "6f47a3fa",
   "metadata": {},
   "source": [
    "## 2. SVD Using Lanczoz algorithm"
   ]
  },
  {
   "cell_type": "code",
   "execution_count": 27,
   "id": "edd7a74c",
   "metadata": {},
   "outputs": [],
   "source": [
    "import numpy as np\n",
    "import scipy.sparse as sp\n",
    "import warnings\n",
    "#import pdb\n",
    "\n",
    "lanc_errors = []\n",
    "\n",
    "def orthog(Y,X):\n",
    "    \"\"\"Orthogonalize a vector against the columns of the matrix X.\n",
    "    \"\"\"\n",
    "    orth_Y = X.T@Y\n",
    "    return Y - X@orth_Y\n",
    "\n",
    "def lanczos(A,n,tol=0.0001,maxit=50):\n",
    "    nu     = n\n",
    "    m      = A.shape[0]\n",
    "    n      = A.shape[1]\n",
    "    if(min(m,n)<2):\n",
    "        raise Exception(\"The input matrix must be at least 2x2.\")\n",
    "    m_b    = min((nu+20, 3*nu, n))  # Working dimension size\n",
    "    mprod  = 0\n",
    "    it     = 0\n",
    "    j      = 0\n",
    "    k      = nu\n",
    "    smax   = 1\n",
    "\n",
    "    C  = np.zeros((n,m_b))\n",
    "    Q  = np.zeros((m,m_b))\n",
    "    F  = np.zeros((n,1))\n",
    "    B  = np.zeros((m_b,m_b))\n",
    "\n",
    "    C[:,0]  = np.random.randn(n) # Initial vector\n",
    "    C[:,0]  = C[:,0]/np.linalg.norm(C)\n",
    "    \n",
    "    while(it < maxit):\n",
    "        if(it>0): \n",
    "            j=k\n",
    "        Q[:,j] = A @ C[:,j]\n",
    "        mprod+=1\n",
    "        if(it>0):\n",
    "            Q[:,j] = orthog(Q[:,j],Q[:,0:j]) # NB Q[:,0:j] selects columns 0,1,...,j-1\n",
    "        s = np.linalg.norm(Q[:,j])\n",
    "        Q[:,j] = Q[:,j]/s\n",
    "        # Lanczos process\n",
    "        while(j<m_b):\n",
    "            F = A.T @ Q[:,j]\n",
    "            mprod+=1\n",
    "            F = F - s*C[:,j]\n",
    "            F = orthog(F,C[:,0:j+1])\n",
    "            fn = np.linalg.norm(F)\n",
    "            F = F/fn\n",
    "            if(j<m_b-1):\n",
    "                C[:,j+1] = F\n",
    "                B[j,j] = s\n",
    "                B[j,j+1] = fn \n",
    "                Q[:,j+1] = A @ C[:,j+1]\n",
    "                mprod+=1\n",
    "                # One step of classical Gram-Schmidt...\n",
    "                Q[:,j+1] = Q[:,j+1] - fn*Q[:,j]\n",
    "                # ...with full reorthogonalization\n",
    "                Q[:,j+1] = orthog(Q[:,j+1],Q[:,0:(j+1)])\n",
    "                s = np.linalg.norm(Q[:,j+1])\n",
    "                Q[:,j+1] = Q[:,j+1]/s\n",
    "\n",
    "            else:\n",
    "                B[j,j] = s\n",
    "            j+=1\n",
    "        # End of Lanczos process\n",
    "        S = np.linalg.svd(B)\n",
    "        lanc_errors.append(abs(lam_truth-S[1][0]))\n",
    "        R = fn * S[0][m_b-1,:] # Residuals\n",
    "        if(it<1):\n",
    "            smax = S[1][0]  # Largest Ritz value\n",
    "        else:\n",
    "            smax = max((S[1][0],smax))\n",
    "\n",
    "        conv = sum(np.abs(R[0:nu]) < tol*smax)\n",
    "        if(conv < nu):  # Not coverged yet\n",
    "            k = max(conv+nu,k)\n",
    "            k = min(k,m_b-3)\n",
    "        else:\n",
    "            break\n",
    "        # Update the Ritz vectors\n",
    "        C[:,0:k] = C[:,0:m_b].dot(S[2].T[:,0:k])\n",
    "        C[:,k] = F \n",
    "        B = np.zeros((m_b,m_b))\n",
    "        for l in range(0,k):\n",
    "            B[l,l] = S[1][l]\n",
    "        B[0:k,k] = R[0:k]\n",
    "        # Update the left approximate singular vectors\n",
    "        Q[:,0:k] = Q[:,0:m_b].dot(S[0][:,0:k])\n",
    "        it+=1\n",
    "        \n",
    "\n",
    "    U = Q[:,0:m_b].dot(S[0][:,0:nu])\n",
    "    V = C[:,0:m_b].dot(S[2].transpose()[:,0:nu])\n",
    "    return U,S[1][0:nu],V"
   ]
  },
  {
   "cell_type": "code",
   "execution_count": 31,
   "id": "ca22f5c5",
   "metadata": {},
   "outputs": [
    {
     "name": "stdout",
     "output_type": "stream",
     "text": [
      "0.19374799728393555\n"
     ]
    }
   ],
   "source": [
    "A = np.array([[1,2,3],[4,5,6],[7,8,9]])\n",
    "start = time.time()\n",
    "t = lanczos(X,10)\n",
    "print(time.time()-start)"
   ]
  },
  {
   "cell_type": "code",
   "execution_count": 34,
   "id": "8c67dead",
   "metadata": {},
   "outputs": [
    {
     "data": {
      "text/plain": [
       "array([[ 0.04227417,  0.00023028, -0.01169526, ..., -0.02226193,\n",
       "         0.04449002,  0.10795137],\n",
       "       [ 0.00034655, -0.00055883, -0.00307559, ..., -0.01439512,\n",
       "         0.00682717, -0.00389733],\n",
       "       [ 0.11459792, -0.00026836,  0.0679242 , ...,  0.06243961,\n",
       "        -0.01466813,  0.06907877],\n",
       "       ...,\n",
       "       [ 0.14995822,  0.00117946, -0.10334013, ...,  0.02879746,\n",
       "         0.01159502,  0.14935394],\n",
       "       [ 0.03975303,  0.00029698,  0.04637558, ...,  0.0122143 ,\n",
       "         0.01135451,  0.00681394],\n",
       "       [ 0.00369155, -0.00176392, -0.00807018, ..., -0.04291252,\n",
       "         0.03651587,  0.00261416]])"
      ]
     },
     "execution_count": 34,
     "metadata": {},
     "output_type": "execute_result"
    }
   ],
   "source": [
    "t[0]"
   ]
  },
  {
   "cell_type": "code",
   "execution_count": 36,
   "id": "ce9c09fb",
   "metadata": {},
   "outputs": [],
   "source": [
    "product = np.dot(t[0],t[0].T)\n",
    "np.fill_diagonal(product,0)\n",
    "if (product.any() == 0):\n",
    "    print(\"orth\")"
   ]
  },
  {
   "cell_type": "code",
   "execution_count": 33,
   "id": "7c2e25f1",
   "metadata": {},
   "outputs": [
    {
     "ename": "ValueError",
     "evalue": "operands could not be broadcast together with shapes (211,211) (211,10) ",
     "output_type": "error",
     "traceback": [
      "\u001b[0;31m---------------------------------------------------------------------------\u001b[0m",
      "\u001b[0;31mValueError\u001b[0m                                Traceback (most recent call last)",
      "Input \u001b[0;32mIn [33]\u001b[0m, in \u001b[0;36m<cell line: 4>\u001b[0;34m()\u001b[0m\n\u001b[1;32m      1\u001b[0m \u001b[38;5;28;01mdef\u001b[39;00m \u001b[38;5;21mis_unitary\u001b[39m(m):\n\u001b[1;32m      2\u001b[0m     \u001b[38;5;28;01mreturn\u001b[39;00m np\u001b[38;5;241m.\u001b[39mallclose(np\u001b[38;5;241m.\u001b[39meye(m\u001b[38;5;241m.\u001b[39mshape[\u001b[38;5;241m0\u001b[39m]), m \u001b[38;5;241m*\u001b[39m m)\n\u001b[0;32m----> 4\u001b[0m \u001b[43mis_unitary\u001b[49m\u001b[43m(\u001b[49m\u001b[43mt\u001b[49m\u001b[43m[\u001b[49m\u001b[38;5;241;43m0\u001b[39;49m\u001b[43m]\u001b[49m\u001b[43m)\u001b[49m\n",
      "Input \u001b[0;32mIn [33]\u001b[0m, in \u001b[0;36mis_unitary\u001b[0;34m(m)\u001b[0m\n\u001b[1;32m      1\u001b[0m \u001b[38;5;28;01mdef\u001b[39;00m \u001b[38;5;21mis_unitary\u001b[39m(m):\n\u001b[0;32m----> 2\u001b[0m     \u001b[38;5;28;01mreturn\u001b[39;00m \u001b[43mnp\u001b[49m\u001b[38;5;241;43m.\u001b[39;49m\u001b[43mallclose\u001b[49m\u001b[43m(\u001b[49m\u001b[43mnp\u001b[49m\u001b[38;5;241;43m.\u001b[39;49m\u001b[43meye\u001b[49m\u001b[43m(\u001b[49m\u001b[43mm\u001b[49m\u001b[38;5;241;43m.\u001b[39;49m\u001b[43mshape\u001b[49m\u001b[43m[\u001b[49m\u001b[38;5;241;43m0\u001b[39;49m\u001b[43m]\u001b[49m\u001b[43m)\u001b[49m\u001b[43m,\u001b[49m\u001b[43m \u001b[49m\u001b[43mm\u001b[49m\u001b[43m \u001b[49m\u001b[38;5;241;43m*\u001b[39;49m\u001b[43m \u001b[49m\u001b[43mm\u001b[49m\u001b[43m)\u001b[49m\n",
      "File \u001b[0;32m<__array_function__ internals>:5\u001b[0m, in \u001b[0;36mallclose\u001b[0;34m(*args, **kwargs)\u001b[0m\n",
      "File \u001b[0;32m~/opt/anaconda3/lib/python3.9/site-packages/numpy/core/numeric.py:2249\u001b[0m, in \u001b[0;36mallclose\u001b[0;34m(a, b, rtol, atol, equal_nan)\u001b[0m\n\u001b[1;32m   2179\u001b[0m \u001b[38;5;129m@array_function_dispatch\u001b[39m(_allclose_dispatcher)\n\u001b[1;32m   2180\u001b[0m \u001b[38;5;28;01mdef\u001b[39;00m \u001b[38;5;21mallclose\u001b[39m(a, b, rtol\u001b[38;5;241m=\u001b[39m\u001b[38;5;241m1.e-5\u001b[39m, atol\u001b[38;5;241m=\u001b[39m\u001b[38;5;241m1.e-8\u001b[39m, equal_nan\u001b[38;5;241m=\u001b[39m\u001b[38;5;28;01mFalse\u001b[39;00m):\n\u001b[1;32m   2181\u001b[0m     \u001b[38;5;124;03m\"\"\"\u001b[39;00m\n\u001b[1;32m   2182\u001b[0m \u001b[38;5;124;03m    Returns True if two arrays are element-wise equal within a tolerance.\u001b[39;00m\n\u001b[1;32m   2183\u001b[0m \n\u001b[0;32m   (...)\u001b[0m\n\u001b[1;32m   2247\u001b[0m \n\u001b[1;32m   2248\u001b[0m \u001b[38;5;124;03m    \"\"\"\u001b[39;00m\n\u001b[0;32m-> 2249\u001b[0m     res \u001b[38;5;241m=\u001b[39m \u001b[38;5;28mall\u001b[39m(\u001b[43misclose\u001b[49m\u001b[43m(\u001b[49m\u001b[43ma\u001b[49m\u001b[43m,\u001b[49m\u001b[43m \u001b[49m\u001b[43mb\u001b[49m\u001b[43m,\u001b[49m\u001b[43m \u001b[49m\u001b[43mrtol\u001b[49m\u001b[38;5;241;43m=\u001b[39;49m\u001b[43mrtol\u001b[49m\u001b[43m,\u001b[49m\u001b[43m \u001b[49m\u001b[43matol\u001b[49m\u001b[38;5;241;43m=\u001b[39;49m\u001b[43matol\u001b[49m\u001b[43m,\u001b[49m\u001b[43m \u001b[49m\u001b[43mequal_nan\u001b[49m\u001b[38;5;241;43m=\u001b[39;49m\u001b[43mequal_nan\u001b[49m\u001b[43m)\u001b[49m)\n\u001b[1;32m   2250\u001b[0m     \u001b[38;5;28;01mreturn\u001b[39;00m \u001b[38;5;28mbool\u001b[39m(res)\n",
      "File \u001b[0;32m<__array_function__ internals>:5\u001b[0m, in \u001b[0;36misclose\u001b[0;34m(*args, **kwargs)\u001b[0m\n",
      "File \u001b[0;32m~/opt/anaconda3/lib/python3.9/site-packages/numpy/core/numeric.py:2358\u001b[0m, in \u001b[0;36misclose\u001b[0;34m(a, b, rtol, atol, equal_nan)\u001b[0m\n\u001b[1;32m   2356\u001b[0m yfin \u001b[38;5;241m=\u001b[39m isfinite(y)\n\u001b[1;32m   2357\u001b[0m \u001b[38;5;28;01mif\u001b[39;00m \u001b[38;5;28mall\u001b[39m(xfin) \u001b[38;5;129;01mand\u001b[39;00m \u001b[38;5;28mall\u001b[39m(yfin):\n\u001b[0;32m-> 2358\u001b[0m     \u001b[38;5;28;01mreturn\u001b[39;00m \u001b[43mwithin_tol\u001b[49m\u001b[43m(\u001b[49m\u001b[43mx\u001b[49m\u001b[43m,\u001b[49m\u001b[43m \u001b[49m\u001b[43my\u001b[49m\u001b[43m,\u001b[49m\u001b[43m \u001b[49m\u001b[43matol\u001b[49m\u001b[43m,\u001b[49m\u001b[43m \u001b[49m\u001b[43mrtol\u001b[49m\u001b[43m)\u001b[49m\n\u001b[1;32m   2359\u001b[0m \u001b[38;5;28;01melse\u001b[39;00m:\n\u001b[1;32m   2360\u001b[0m     finite \u001b[38;5;241m=\u001b[39m xfin \u001b[38;5;241m&\u001b[39m yfin\n",
      "File \u001b[0;32m~/opt/anaconda3/lib/python3.9/site-packages/numpy/core/numeric.py:2339\u001b[0m, in \u001b[0;36misclose.<locals>.within_tol\u001b[0;34m(x, y, atol, rtol)\u001b[0m\n\u001b[1;32m   2337\u001b[0m \u001b[38;5;28;01mdef\u001b[39;00m \u001b[38;5;21mwithin_tol\u001b[39m(x, y, atol, rtol):\n\u001b[1;32m   2338\u001b[0m     \u001b[38;5;28;01mwith\u001b[39;00m errstate(invalid\u001b[38;5;241m=\u001b[39m\u001b[38;5;124m'\u001b[39m\u001b[38;5;124mignore\u001b[39m\u001b[38;5;124m'\u001b[39m):\n\u001b[0;32m-> 2339\u001b[0m         \u001b[38;5;28;01mreturn\u001b[39;00m less_equal(\u001b[38;5;28mabs\u001b[39m(\u001b[43mx\u001b[49m\u001b[38;5;241;43m-\u001b[39;49m\u001b[43my\u001b[49m), atol \u001b[38;5;241m+\u001b[39m rtol \u001b[38;5;241m*\u001b[39m \u001b[38;5;28mabs\u001b[39m(y))\n",
      "\u001b[0;31mValueError\u001b[0m: operands could not be broadcast together with shapes (211,211) (211,10) "
     ]
    }
   ],
   "source": [
    "def is_unitary(m):\n",
    "    return np.allclose(np.eye(m.shape[0]), m * m)\n",
    "\n",
    "is_unitary(t[0])"
   ]
  },
  {
   "cell_type": "code",
   "execution_count": 29,
   "id": "0fe56b1b",
   "metadata": {},
   "outputs": [
    {
     "data": {
      "text/plain": [
       "[1.1368683772161603e-13, 1.1368683772161603e-13]"
      ]
     },
     "execution_count": 29,
     "metadata": {},
     "output_type": "execute_result"
    }
   ],
   "source": [
    "lanc_errors"
   ]
  },
  {
   "cell_type": "code",
   "execution_count": 172,
   "id": "9f60efbd",
   "metadata": {},
   "outputs": [
    {
     "data": {
      "image/png": "[encoded data removed]",
      "text/plain": [
       "<Figure size 432x288 with 1 Axes>"
      ]
     },
     "metadata": {
      "needs_background": "light"
     },
     "output_type": "display_data"
    }
   ],
   "source": [
    "import matplotlib.pyplot as plt\n",
    "\n",
    "plt.plot(pow_errors[:40], label = \"Power Iteration\")\n",
    "plt.plot((lanc_errors+[0]*(len(pow_errors)-len(lanc_errors)))[:40], label = \"Lanczos Iteration\")\n",
    "plt.legend(loc=\"upper right\")\n",
    "plt.title(\"Convergence of 1st singular value\")\n",
    "plt.show()"
   ]
  },
  {
   "cell_type": "code",
   "execution_count": 30,
   "id": "c79d1126",
   "metadata": {},
   "outputs": [
    {
     "data": {
      "text/plain": [
       "(array([[ 0.04227417, -0.00023028,  0.01169526, ...,  0.02226193,\n",
       "         -0.04449002, -0.10795137],\n",
       "        [ 0.00034655,  0.00055883,  0.00307559, ...,  0.01439512,\n",
       "         -0.00682717,  0.00389733],\n",
       "        [ 0.11459792,  0.00026836, -0.0679242 , ..., -0.06243961,\n",
       "          0.01466813, -0.06907878],\n",
       "        ...,\n",
       "        [ 0.14995822, -0.00117946,  0.10334013, ..., -0.02879746,\n",
       "         -0.01159502, -0.14935393],\n",
       "        [ 0.03975303, -0.00029698, -0.04637558, ..., -0.0122143 ,\n",
       "         -0.01135451, -0.00681395],\n",
       "        [ 0.00369155,  0.00176392,  0.00807018, ...,  0.04291252,\n",
       "         -0.03651587, -0.00261416]]),\n",
       " array([160.78727336,  71.400965  ,  66.76322023,  61.34508082,\n",
       "         59.96523166,  57.36243955,  53.39748439,  51.0637573 ,\n",
       "         50.27906765,  48.79593324]),\n",
       " array([[ 1.53311174e-05,  1.13094790e-05,  1.06969806e-04, ...,\n",
       "          8.08407779e-04, -2.38265628e-04,  1.82342534e-04],\n",
       "        [ 5.49106284e-03, -6.21416309e-05, -8.60608641e-03, ...,\n",
       "         -1.68563124e-03, -7.32583048e-03,  5.25318173e-03],\n",
       "        [ 8.93725940e-04, -5.33378872e-07, -4.11939642e-03, ...,\n",
       "          9.95298781e-04, -1.11694795e-03,  4.27459884e-03],\n",
       "        ...,\n",
       "        [ 9.32715039e-05,  1.26662267e-05, -1.80691853e-03, ...,\n",
       "          4.20831552e-03,  1.12500862e-02, -4.41191974e-03],\n",
       "        [ 9.32715039e-05,  1.26662267e-05, -1.80691853e-03, ...,\n",
       "          4.20831552e-03,  1.12500862e-02, -4.41191974e-03],\n",
       "        [ 1.73882909e-04,  2.37417870e-05, -3.35647890e-03, ...,\n",
       "          7.84174747e-03,  2.12524343e-02, -8.12471665e-03]]))"
      ]
     },
     "execution_count": 30,
     "metadata": {},
     "output_type": "execute_result"
    }
   ],
   "source": [
    "t"
   ]
  },
  {
   "attachments": {},
   "cell_type": "markdown",
   "id": "3df89b6b",
   "metadata": {},
   "source": [
    "## MISC"
   ]
  },
  {
   "cell_type": "code",
   "execution_count": 91,
   "id": "aeb8f402",
   "metadata": {},
   "outputs": [
    {
     "name": "stdout",
     "output_type": "stream",
     "text": [
      "0.5423169136047363\n",
      "[[-4.17802724e-02  9.31122271e-03 -3.29545731e-02 ...  8.52306984e-19\n",
      "  -2.91095147e-04  1.72295972e-04]\n",
      " [-4.09565800e-04  3.35000870e-03 -5.21393983e-03 ...  1.18376355e-16\n",
      "  -7.02378257e-05 -1.45391186e-05]\n",
      " [-4.16536786e-04  1.76536085e-03 -4.11927684e-03 ... -1.35193208e-16\n",
      "  -1.79546833e-04 -6.26101026e-04]\n",
      " ...\n",
      " [-3.86742388e-02 -4.62925960e-02 -1.04553338e-02 ... -5.96399899e-17\n",
      "  -3.36229122e-06 -7.49653165e-04]\n",
      " [-1.41539553e-02  6.31413287e-04 -2.02915883e-02 ... -1.04380113e-16\n",
      "   1.50695044e-04 -5.07973548e-04]\n",
      " [-3.66695138e-03  9.30093840e-03 -2.70790569e-02 ... -2.40627792e-17\n",
      "  -1.52285710e-04 -2.75599129e-04]] [161.83088837  67.65166504  61.90599515  59.22601336  58.40466604\n",
      "  54.49761659  53.50665832  50.76283832  48.60814425  47.46143172\n",
      "  45.94116865  45.38479686  44.11430121  43.6040937   42.65526863\n",
      "  42.58384954  42.15633715  40.7849152   40.07412795  39.77110555\n",
      "  39.46779763  38.96227174  38.79039228  38.46972464  38.05944428\n",
      "  37.77090685  37.55211109  37.37599785  37.11042715  36.42208831\n",
      "  36.19885981  35.90369368  35.44132828  35.29592514  35.1364498\n",
      "  35.03941592  34.99264454  34.64323171  34.24724531  34.07898608\n",
      "  33.82293299  33.77307622  33.48249475  33.45561912  33.29216099\n",
      "  33.19463555  33.0467143   32.76792667  32.73674325  32.46078109\n",
      "  32.31898565  32.27665623  32.15605065  31.95502923  31.72157788\n",
      "  31.6558276   31.44454583  31.38692086  31.27738383  31.1907864\n",
      "  31.05725091  30.88768328  30.83823961  30.69977785  30.63172014\n",
      "  30.48346028  30.30093153  30.13696324  30.07332157  29.95414182\n",
      "  29.83755951  29.73940982  29.49866436  29.43073913  29.3312388\n",
      "  29.32577153  29.13665731  29.06615093  28.89619361  28.86585494\n",
      "  28.77355507  28.68545762  28.47578098  28.38847732  28.36695188\n",
      "  28.20843924  28.13045808  28.1053147   28.03511543  27.86493885\n",
      "  27.82106503  27.77655902  27.69353577  27.50404757  27.43242873\n",
      "  27.39414801  27.29689287  27.22942038  27.13633456  27.08481557\n",
      "  27.05471091  26.96349365  26.93147555  26.86512976  26.75421879\n",
      "  26.66058735  26.60523072  26.54347248  26.40214511  26.26619355\n",
      "  26.21644721  26.16459115  26.10361988  26.08026605  26.00199535\n",
      "  25.97520368  25.84705794  25.80782212  25.77395173  25.60834228\n",
      "  25.53364132  25.50617795  25.41639315  25.21839854  25.16574432\n",
      "  25.09276732  25.06788342  25.033683    24.95981061  24.90013318\n",
      "  24.84225256  24.80908821  24.7495241   24.61672588  24.57779734\n",
      "  24.51819132  24.40057504  24.35613987  24.32441413  24.19946665\n",
      "  24.12493776  24.12408643  24.06112381  24.0012536   23.94365848\n",
      "  23.90952458  23.79500901  23.74794914  23.71310752  23.55867323\n",
      "  23.46551161  23.4273333   23.3885413   23.33940489  23.22372295\n",
      "  23.18914476  23.14732542  23.09135929  23.06681754  22.97564508\n",
      "  22.90563004  22.85026091  22.73985258  22.72063028  22.66479447\n",
      "  22.52892566  22.4946693   22.4790383   22.37668619  22.31114137\n",
      "  22.22386843  22.15438091  22.13125984  22.04805171  22.00885916\n",
      "  21.9823191   21.90788201  21.85550373  21.81155664  21.73590774\n",
      "  21.66591834  21.59928576  21.48778693  21.4566262   21.40529555\n",
      "  21.32976147  21.25508492  21.18829731  21.14207414  21.08460181\n",
      "  21.05450161  20.98616291  20.86095188  20.84990166  20.79258995\n",
      "  20.69737897  20.63175368  20.61712325  20.55327771  20.49324477\n",
      "  20.47433396  20.40039899  20.2952375   20.22807688  20.18958733\n",
      "  20.17755612  20.11387163  20.07101891  19.93202517  19.89933219\n",
      "  19.86835585  19.82126826  19.76548713  19.72751561  19.68469902\n",
      "  19.63109681  19.62142197  19.57115046  19.53969474  19.46292075\n",
      "  19.39220823  19.3703443   19.3098152   19.24803703  19.16217764\n",
      "  19.14355349  19.08799599  18.99946322  18.8567513   18.85167217\n",
      "  18.80267584  18.71206051  18.66584586  18.63549389  18.5884663\n",
      "  18.57459435  18.49452511  18.47296581  18.42322216  18.35198565\n",
      "  18.32814335  18.21533719  18.16221588  18.14211655  18.09586357\n",
      "  18.01823985  17.95214496  17.91334297  17.8745709   17.76624446\n",
      "  17.72659171  17.701577    17.66221424  17.59066684  17.53996757\n",
      "  17.51795955  17.4202509   17.36242279  17.28424996  17.25318551\n",
      "  17.21424645  17.138973    17.04760165  17.02574216  16.98867801\n",
      "  16.93122917  16.85916139  16.83468672  16.73222353  16.6779401\n",
      "  16.57933517  16.54540245  16.50027     16.4788972   16.43278213\n",
      "  16.37414605  16.35612101  16.28600726  16.19818672  16.1336638\n",
      "  16.09228042  16.02810441  15.9331079   15.89112988  15.8414035\n",
      "  15.77183672  15.70205491  15.67029851  15.56380258  15.44441036\n",
      "  15.40302335  15.33077491  15.27354674  15.25626303  15.15433108\n",
      "  15.10010999  15.05443272  14.93471773  14.86356862  14.77516554\n",
      "  14.69874181  14.65841296  14.57645406  14.52435965  14.48748381\n",
      "  14.47227867  14.34946485  14.23044621  14.18210877  14.14286882\n",
      "  13.97022411  13.8972766   13.82538043  13.71258955  13.62932556\n",
      "  13.60610527  13.52883046  13.47829638  13.3856775   13.34906591\n",
      "  13.27696191  13.190778    13.12025931  13.03140812  12.95600121\n",
      "  12.88545891  12.78163982  12.61721785  12.53694405  12.52996409\n",
      "  12.39358948  12.31289969  12.2912637   12.22735941  12.10088264\n",
      "  11.90684177  11.82232735  11.81068265  11.65429493  11.59413688\n",
      "  11.24630262  10.81597761  10.47887155  10.13464814   9.83418153\n",
      "   9.70529234   9.07428513   9.05735019   9.00920692   8.60773676\n",
      "   8.34399212   7.35870691   7.1768751    7.05359726   6.29612239\n",
      "   6.25278825   5.666292     5.           4.79064474   1.92576775] [[-3.88066156e-05 -1.79176451e-05 -5.38520842e-03 ... -5.88170736e-04\n",
      "  -2.86402061e-04 -1.91539542e-04]\n",
      " [ 5.31474041e-04  1.32436239e-04 -7.19117769e-03 ... -2.43777499e-03\n",
      "  -1.63741979e-03 -1.80136506e-03]\n",
      " [-1.18008229e-03 -2.49498563e-04  7.77346629e-03 ... -1.48969785e-04\n",
      "   4.00661858e-04  2.36956166e-04]\n",
      " ...\n",
      " [ 2.89780286e-03  2.47495194e-05 -3.94941199e-03 ...  9.53945107e-01\n",
      "  -1.60098517e-02 -1.41815552e-03]\n",
      " [ 2.98472754e-03  9.29198767e-04 -7.34576751e-03 ... -1.62444082e-02\n",
      "   9.34747410e-01 -1.20688946e-03]\n",
      " [-1.76532104e-03  4.24079392e-04  4.29905581e-03 ...  4.20161188e-04\n",
      "  -1.39126098e-03  9.52482193e-01]]\n"
     ]
    }
   ],
   "source": [
    "start = time.time()\n",
    "a,b,c=np.linalg.svd(X)\n",
    "print(time.time()-start)\n",
    "print(a,b,c)"
   ]
  },
  {
   "cell_type": "code",
   "execution_count": 223,
   "id": "370db2e6",
   "metadata": {},
   "outputs": [],
   "source": [
    "import numpy as np\n",
    "import numpy.linalg as la\n",
    "import copy as cp\n",
    "\n",
    "#Generates the representation in Krylov subspace of a Hermitian NxN matrix using the Lanczos algorithm and an initial vector guess vg.\n",
    "def Lanczos(H):\n",
    "    vg = np.random.rand(len(H))\n",
    "    Lv=np.zeros((len(vg),len(vg))) #Creates matrix for Lanczos vectors\n",
    "    Hk=np.zeros((len(vg),len(vg))) #Creates matrix for the Hamiltonian in Krylov subspace\n",
    "    Lv[0]=vg/la.norm(vg) #Creates the first Lanczos vector as the normalized guess vector vg\n",
    "     \n",
    "    #Performs the first iteration step of the Lanczos algorithm\n",
    "    w=np.dot(H,Lv[0]) \n",
    "    a=np.dot(w,Lv[0])\n",
    "    w=w-a*Lv[0]\n",
    "    Hk[0,0]=a\n",
    "     \n",
    "    #Performs the iterative steps of the Lanczos algorithm\n",
    "    for j in range(1,len(vg)):\n",
    "        b=(np.dot(w,np.transpose(w)))**0.5\n",
    "        Lv[j]=w/b\n",
    "         \n",
    "        w=np.dot(H,Lv[j])\n",
    "        a=np.dot(w,Lv[j])\n",
    "        w=w-a*Lv[j]-b*Lv[j-1]\n",
    "        \n",
    "        #Creates tridiagonal matrix Hk using a and b values\n",
    "        Hk[j,j]=round(a,3)\n",
    "        Hk[j-1,j]=round(b,3)\n",
    "        Hk[j,j-1]=round(b,3)\n",
    "        \n",
    "    return (Hk,Lv)"
   ]
  },
  {
   "cell_type": "code",
   "execution_count": 157,
   "id": "5abf6231",
   "metadata": {},
   "outputs": [],
   "source": [
    "A = np.array([[1,2,3],[4,5,6],[7,8,9]])             "
   ]
  },
  {
   "cell_type": "code",
   "execution_count": 212,
   "id": "f491bb36",
   "metadata": {},
   "outputs": [],
   "source": [
    "n,m = X.shape\n",
    "C = np.dot(X.T, X) / (n-1)\n",
    "# C = np.dot(X.T, X)"
   ]
  },
  {
   "cell_type": "code",
   "execution_count": 141,
   "id": "0fb9b35a",
   "metadata": {},
   "outputs": [],
   "source": [
    "eigen_vals, eigen_vecs = np.linalg.eig(A)"
   ]
  },
  {
   "cell_type": "code",
   "execution_count": 224,
   "id": "c8d12f73",
   "metadata": {},
   "outputs": [],
   "source": [
    "# H = X + X.T\n",
    "Hk, Lv = Lanczos(C)"
   ]
  },
  {
   "cell_type": "code",
   "execution_count": 143,
   "id": "51ee6666",
   "metadata": {},
   "outputs": [
    {
     "data": {
      "text/plain": [
       "array([[15.08089271,  6.63628494,  0.        ],\n",
       "       [ 6.63628494,  0.17668745,  4.24804895],\n",
       "       [ 0.        ,  4.24804895, 14.63257081]])"
      ]
     },
     "execution_count": 143,
     "metadata": {},
     "output_type": "execute_result"
    }
   ],
   "source": [
    "vals"
   ]
  },
  {
   "cell_type": "code",
   "execution_count": 144,
   "id": "c0c2c819",
   "metadata": {},
   "outputs": [
    {
     "data": {
      "text/plain": [
       "array([ 1.61168440e+01, -1.11684397e+00, -4.22209278e-16])"
      ]
     },
     "execution_count": 144,
     "metadata": {},
     "output_type": "execute_result"
    }
   ],
   "source": [
    "eigen_vals"
   ]
  },
  {
   "cell_type": "code",
   "execution_count": 145,
   "id": "fa7b3a31",
   "metadata": {},
   "outputs": [
    {
     "data": {
      "text/plain": [
       "array([[ 0.58594334,  0.39608326,  0.70695718],\n",
       "       [-0.80430049,  0.39067695,  0.44774127],\n",
       "       [-0.57110921, -0.30011863, -0.7640439 ]])"
      ]
     },
     "execution_count": 145,
     "metadata": {},
     "output_type": "execute_result"
    }
   ],
   "source": [
    "vecs"
   ]
  },
  {
   "cell_type": "code",
   "execution_count": 146,
   "id": "73dc3ce5",
   "metadata": {},
   "outputs": [
    {
     "data": {
      "text/plain": [
       "array([[-0.23197069, -0.78583024,  0.40824829],\n",
       "       [-0.52532209, -0.08675134, -0.81649658],\n",
       "       [-0.8186735 ,  0.61232756,  0.40824829]])"
      ]
     },
     "execution_count": 146,
     "metadata": {},
     "output_type": "execute_result"
    }
   ],
   "source": [
    "eigen_vecs"
   ]
  },
  {
   "cell_type": "code",
   "execution_count": 225,
   "id": "6214ec6c",
   "metadata": {},
   "outputs": [
    {
     "name": "stdout",
     "output_type": "stream",
     "text": [
      "23.63612389564514\n"
     ]
    }
   ],
   "source": [
    "import time\n",
    "start = time.time()\n",
    "A,B= np.linalg.eig(Hk)\n",
    "end = time.time()\n",
    "print(end-start)"
   ]
  },
  {
   "cell_type": "code",
   "execution_count": 201,
   "id": "75da7dc2",
   "metadata": {},
   "outputs": [
    {
     "data": {
      "text/plain": [
       "array([72.9505193 +0.j, 72.9505193 +0.j, 72.9505193 +0.j, ...,\n",
       "        5.73606882+0.j,  4.66722333+0.j, 10.64037584+0.j])"
      ]
     },
     "execution_count": 201,
     "metadata": {},
     "output_type": "execute_result"
    }
   ],
   "source": [
    "A"
   ]
  },
  {
   "cell_type": "code",
   "execution_count": 202,
   "id": "42bed7a6",
   "metadata": {},
   "outputs": [
    {
     "data": {
      "text/plain": [
       "array([[ 2.33427314e-01+0.j,  6.40132057e-02+0.j, -1.78411929e-02+0.j,\n",
       "        ...,  1.35078973e-30+0.j, -5.51557277e-31+0.j,\n",
       "         1.05922688e-32+0.j],\n",
       "       [ 9.48513006e-01+0.j,  2.60112483e-01+0.j, -7.24962439e-02+0.j,\n",
       "        ..., -6.59493842e-32+0.j,  8.41024494e-32+0.j,\n",
       "         1.68246821e-32+0.j],\n",
       "       [ 2.13937528e-01+0.j,  5.86684856e-02+0.j, -1.63515599e-02+0.j,\n",
       "        ..., -1.26132921e-30+0.j,  2.54775572e-31+0.j,\n",
       "        -8.53815644e-32+0.j],\n",
       "       ...,\n",
       "       [ 0.00000000e+00+0.j,  0.00000000e+00+0.j,  0.00000000e+00+0.j,\n",
       "        ..., -4.08604094e-02+0.j, -3.54722123e-01+0.j,\n",
       "        -4.27839066e-01+0.j],\n",
       "       [ 0.00000000e+00+0.j,  0.00000000e+00+0.j,  0.00000000e+00+0.j,\n",
       "        ...,  2.44772109e-02+0.j,  1.23710194e-01+0.j,\n",
       "        -8.41291355e-01+0.j],\n",
       "       [ 0.00000000e+00+0.j,  0.00000000e+00+0.j,  0.00000000e+00+0.j,\n",
       "        ...,  2.93894817e-02+0.j,  2.76917719e-01+0.j,\n",
       "        -3.23012313e-01+0.j]])"
      ]
     },
     "execution_count": 202,
     "metadata": {},
     "output_type": "execute_result"
    }
   ],
   "source": [
    "B"
   ]
  },
  {
   "cell_type": "code",
   "execution_count": 226,
   "id": "ad64a9ca",
   "metadata": {},
   "outputs": [
    {
     "name": "stdout",
     "output_type": "stream",
     "text": [
      "15.57386589050293\n"
     ]
    }
   ],
   "source": [
    "start = time.time()\n",
    "eigen_vals, eigen_vecs = np.linalg.eig(C)\n",
    "end = time.time()\n",
    "print(end-start)"
   ]
  },
  {
   "cell_type": "code",
   "execution_count": 188,
   "id": "060b69bc",
   "metadata": {},
   "outputs": [
    {
     "data": {
      "text/plain": [
       "array([ 3.29164729e+01, -2.91647287e+00, -2.47766863e-16])"
      ]
     },
     "execution_count": 188,
     "metadata": {},
     "output_type": "execute_result"
    }
   ],
   "source": [
    "eigen_vals"
   ]
  },
  {
   "cell_type": "code",
   "execution_count": 189,
   "id": "c02e2100",
   "metadata": {},
   "outputs": [
    {
     "data": {
      "text/plain": [
       "array([[-0.35162514, -0.84243284,  0.40824829],\n",
       "       [-0.55335618, -0.1647127 , -0.81649658],\n",
       "       [-0.75508721,  0.51300744,  0.40824829]])"
      ]
     },
     "execution_count": 189,
     "metadata": {},
     "output_type": "execute_result"
    }
   ],
   "source": [
    "eigen_vecs"
   ]
  },
  {
   "cell_type": "code",
   "execution_count": 176,
   "id": "eef71e72",
   "metadata": {},
   "outputs": [],
   "source": [
    "eigen_vals, eigen_vecs = np.linalg.eig(H)"
   ]
  },
  {
   "cell_type": "code",
   "execution_count": 177,
   "id": "e7e97f61",
   "metadata": {},
   "outputs": [
    {
     "data": {
      "text/plain": [
       "array([ 3.29164729e+01, -2.91647287e+00, -2.47766863e-16])"
      ]
     },
     "execution_count": 177,
     "metadata": {},
     "output_type": "execute_result"
    }
   ],
   "source": [
    "eigen_vals"
   ]
  },
  {
   "cell_type": "code",
   "execution_count": 178,
   "id": "e26e1b51",
   "metadata": {},
   "outputs": [
    {
     "data": {
      "text/plain": [
       "array([[-0.35162514, -0.84243284,  0.40824829],\n",
       "       [-0.55335618, -0.1647127 , -0.81649658],\n",
       "       [-0.75508721,  0.51300744,  0.40824829]])"
      ]
     },
     "execution_count": 178,
     "metadata": {},
     "output_type": "execute_result"
    }
   ],
   "source": [
    "eigen_vecs"
   ]
  },
  {
   "cell_type": "code",
   "execution_count": 216,
   "id": "8b7b6442",
   "metadata": {},
   "outputs": [
    {
     "data": {
      "text/plain": [
       "array([ 7.29505193e+01,  1.27486011e+01,  1.06750759e+01, ...,\n",
       "        1.37818986e-63,  2.36649483e-65, -4.77969085e-76])"
      ]
     },
     "execution_count": 216,
     "metadata": {},
     "output_type": "execute_result"
    }
   ],
   "source": [
    "eigen_vals.real"
   ]
  },
  {
   "cell_type": "code",
   "execution_count": 210,
   "id": "c82da6a0",
   "metadata": {},
   "outputs": [
    {
     "data": {
      "text/plain": [
       "(array([[-4.17802724e-02,  9.31122271e-03, -3.29545731e-02, ...,\n",
       "          8.52306984e-19, -2.91095147e-04,  1.72295972e-04],\n",
       "        [-4.09565800e-04,  3.35000870e-03, -5.21393983e-03, ...,\n",
       "          1.18376355e-16, -7.02378257e-05, -1.45391186e-05],\n",
       "        [-4.16536786e-04,  1.76536085e-03, -4.11927684e-03, ...,\n",
       "         -1.35193208e-16, -1.79546833e-04, -6.26101026e-04],\n",
       "        ...,\n",
       "        [-3.86742388e-02, -4.62925960e-02, -1.04553338e-02, ...,\n",
       "         -5.96399899e-17, -3.36229122e-06, -7.49653165e-04],\n",
       "        [-1.41539553e-02,  6.31413287e-04, -2.02915883e-02, ...,\n",
       "         -1.04380113e-16,  1.50695044e-04, -5.07973548e-04],\n",
       "        [-3.66695138e-03,  9.30093840e-03, -2.70790569e-02, ...,\n",
       "         -2.40627792e-17, -1.52285710e-04, -2.75599129e-04]]),\n",
       " array([161.83088837,  67.65166504,  61.90599515,  59.22601336,\n",
       "         58.40466604,  54.49761659,  53.50665832,  50.76283832,\n",
       "         48.60814425,  47.46143172,  45.94116865,  45.38479686,\n",
       "         44.11430121,  43.6040937 ,  42.65526863,  42.58384954,\n",
       "         42.15633715,  40.7849152 ,  40.07412795,  39.77110555,\n",
       "         39.46779763,  38.96227174,  38.79039228,  38.46972464,\n",
       "         38.05944428,  37.77090685,  37.55211109,  37.37599785,\n",
       "         37.11042715,  36.42208831,  36.19885981,  35.90369368,\n",
       "         35.44132828,  35.29592514,  35.1364498 ,  35.03941592,\n",
       "         34.99264454,  34.64323171,  34.24724531,  34.07898608,\n",
       "         33.82293299,  33.77307622,  33.48249475,  33.45561912,\n",
       "         33.29216099,  33.19463555,  33.0467143 ,  32.76792667,\n",
       "         32.73674325,  32.46078109,  32.31898565,  32.27665623,\n",
       "         32.15605065,  31.95502923,  31.72157788,  31.6558276 ,\n",
       "         31.44454583,  31.38692086,  31.27738383,  31.1907864 ,\n",
       "         31.05725091,  30.88768328,  30.83823961,  30.69977785,\n",
       "         30.63172014,  30.48346028,  30.30093153,  30.13696324,\n",
       "         30.07332157,  29.95414182,  29.83755951,  29.73940982,\n",
       "         29.49866436,  29.43073913,  29.3312388 ,  29.32577153,\n",
       "         29.13665731,  29.06615093,  28.89619361,  28.86585494,\n",
       "         28.77355507,  28.68545762,  28.47578098,  28.38847732,\n",
       "         28.36695188,  28.20843924,  28.13045808,  28.1053147 ,\n",
       "         28.03511543,  27.86493885,  27.82106503,  27.77655902,\n",
       "         27.69353577,  27.50404757,  27.43242873,  27.39414801,\n",
       "         27.29689287,  27.22942038,  27.13633456,  27.08481557,\n",
       "         27.05471091,  26.96349365,  26.93147555,  26.86512976,\n",
       "         26.75421879,  26.66058735,  26.60523072,  26.54347248,\n",
       "         26.40214511,  26.26619355,  26.21644721,  26.16459115,\n",
       "         26.10361988,  26.08026605,  26.00199535,  25.97520368,\n",
       "         25.84705794,  25.80782212,  25.77395173,  25.60834228,\n",
       "         25.53364132,  25.50617795,  25.41639315,  25.21839854,\n",
       "         25.16574432,  25.09276732,  25.06788342,  25.033683  ,\n",
       "         24.95981061,  24.90013318,  24.84225256,  24.80908821,\n",
       "         24.7495241 ,  24.61672588,  24.57779734,  24.51819132,\n",
       "         24.40057504,  24.35613987,  24.32441413,  24.19946665,\n",
       "         24.12493776,  24.12408643,  24.06112381,  24.0012536 ,\n",
       "         23.94365848,  23.90952458,  23.79500901,  23.74794914,\n",
       "         23.71310752,  23.55867323,  23.46551161,  23.4273333 ,\n",
       "         23.3885413 ,  23.33940489,  23.22372295,  23.18914476,\n",
       "         23.14732542,  23.09135929,  23.06681754,  22.97564508,\n",
       "         22.90563004,  22.85026091,  22.73985258,  22.72063028,\n",
       "         22.66479447,  22.52892566,  22.4946693 ,  22.4790383 ,\n",
       "         22.37668619,  22.31114137,  22.22386843,  22.15438091,\n",
       "         22.13125984,  22.04805171,  22.00885916,  21.9823191 ,\n",
       "         21.90788201,  21.85550373,  21.81155664,  21.73590774,\n",
       "         21.66591834,  21.59928576,  21.48778693,  21.4566262 ,\n",
       "         21.40529555,  21.32976147,  21.25508492,  21.18829731,\n",
       "         21.14207414,  21.08460181,  21.05450161,  20.98616291,\n",
       "         20.86095188,  20.84990166,  20.79258995,  20.69737897,\n",
       "         20.63175368,  20.61712325,  20.55327771,  20.49324477,\n",
       "         20.47433396,  20.40039899,  20.2952375 ,  20.22807688,\n",
       "         20.18958733,  20.17755612,  20.11387163,  20.07101891,\n",
       "         19.93202517,  19.89933219,  19.86835585,  19.82126826,\n",
       "         19.76548713,  19.72751561,  19.68469902,  19.63109681,\n",
       "         19.62142197,  19.57115046,  19.53969474,  19.46292075,\n",
       "         19.39220823,  19.3703443 ,  19.3098152 ,  19.24803703,\n",
       "         19.16217764,  19.14355349,  19.08799599,  18.99946322,\n",
       "         18.8567513 ,  18.85167217,  18.80267584,  18.71206051,\n",
       "         18.66584586,  18.63549389,  18.5884663 ,  18.57459435,\n",
       "         18.49452511,  18.47296581,  18.42322216,  18.35198565,\n",
       "         18.32814335,  18.21533719,  18.16221588,  18.14211655,\n",
       "         18.09586357,  18.01823985,  17.95214496,  17.91334297,\n",
       "         17.8745709 ,  17.76624446,  17.72659171,  17.701577  ,\n",
       "         17.66221424,  17.59066684,  17.53996757,  17.51795955,\n",
       "         17.4202509 ,  17.36242279,  17.28424996,  17.25318551,\n",
       "         17.21424645,  17.138973  ,  17.04760165,  17.02574216,\n",
       "         16.98867801,  16.93122917,  16.85916139,  16.83468672,\n",
       "         16.73222353,  16.6779401 ,  16.57933517,  16.54540245,\n",
       "         16.50027   ,  16.4788972 ,  16.43278213,  16.37414605,\n",
       "         16.35612101,  16.28600726,  16.19818672,  16.1336638 ,\n",
       "         16.09228042,  16.02810441,  15.9331079 ,  15.89112988,\n",
       "         15.8414035 ,  15.77183672,  15.70205491,  15.67029851,\n",
       "         15.56380258,  15.44441036,  15.40302335,  15.33077491,\n",
       "         15.27354674,  15.25626303,  15.15433108,  15.10010999,\n",
       "         15.05443272,  14.93471773,  14.86356862,  14.77516554,\n",
       "         14.69874181,  14.65841296,  14.57645406,  14.52435965,\n",
       "         14.48748381,  14.47227867,  14.34946485,  14.23044621,\n",
       "         14.18210877,  14.14286882,  13.97022411,  13.8972766 ,\n",
       "         13.82538043,  13.71258955,  13.62932556,  13.60610527,\n",
       "         13.52883046,  13.47829638,  13.3856775 ,  13.34906591,\n",
       "         13.27696191,  13.190778  ,  13.12025931,  13.03140812,\n",
       "         12.95600121,  12.88545891,  12.78163982,  12.61721785,\n",
       "         12.53694405,  12.52996409,  12.39358948,  12.31289969,\n",
       "         12.2912637 ,  12.22735941,  12.10088264,  11.90684177,\n",
       "         11.82232735,  11.81068265,  11.65429493,  11.59413688,\n",
       "         11.24630262,  10.81597761,  10.47887155,  10.13464814,\n",
       "          9.83418153,   9.70529234,   9.07428513,   9.05735019,\n",
       "          9.00920692,   8.60773676,   8.34399212,   7.35870691,\n",
       "          7.1768751 ,   7.05359726,   6.29612239,   6.25278825,\n",
       "          5.666292  ,   5.        ,   4.79064474,   1.92576775]),\n",
       " array([[-3.88066156e-05, -1.79176451e-05, -5.38520842e-03, ...,\n",
       "         -5.88170736e-04, -2.86402061e-04, -1.91539542e-04],\n",
       "        [ 5.31474041e-04,  1.32436239e-04, -7.19117769e-03, ...,\n",
       "         -2.43777499e-03, -1.63741979e-03, -1.80136506e-03],\n",
       "        [-1.18008229e-03, -2.49498563e-04,  7.77346629e-03, ...,\n",
       "         -1.48969785e-04,  4.00661858e-04,  2.36956166e-04],\n",
       "        ...,\n",
       "        [ 2.89780286e-03,  2.47495194e-05, -3.94941199e-03, ...,\n",
       "          9.53945107e-01, -1.60098517e-02, -1.41815552e-03],\n",
       "        [ 2.98472754e-03,  9.29198767e-04, -7.34576751e-03, ...,\n",
       "         -1.62444082e-02,  9.34747410e-01, -1.20688946e-03],\n",
       "        [-1.76532104e-03,  4.24079392e-04,  4.29905581e-03, ...,\n",
       "          4.20161188e-04, -1.39126098e-03,  9.52482193e-01]]))"
      ]
     },
     "execution_count": 210,
     "metadata": {},
     "output_type": "execute_result"
    }
   ],
   "source": [
    "np.linalg.svd(X)"
   ]
  },
  {
   "cell_type": "code",
   "execution_count": 219,
   "id": "278179dc",
   "metadata": {},
   "outputs": [
    {
     "data": {
      "text/plain": [
       "array([[-3.88066156e-05, -1.79176451e-05, -5.38520842e-03, ...,\n",
       "        -5.88170736e-04, -2.86402061e-04, -1.91539542e-04],\n",
       "       [-5.31474041e-04, -1.32436239e-04,  7.19117769e-03, ...,\n",
       "         2.43777499e-03,  1.63741979e-03,  1.80136506e-03],\n",
       "       [ 1.18008229e-03,  2.49498563e-04, -7.77346629e-03, ...,\n",
       "         1.48969785e-04, -4.00661858e-04, -2.36956166e-04],\n",
       "       ...,\n",
       "       [-3.49419735e-19, -1.23512553e-18,  2.43622610e-20, ...,\n",
       "        -3.51498719e-17, -6.14179530e-15,  4.12075609e-17],\n",
       "       [ 3.06172725e-21, -1.03920496e-18, -7.72804941e-19, ...,\n",
       "        -5.60515862e-18, -1.01467518e-15,  6.04256167e-18],\n",
       "       [-1.44826132e-20,  1.32521061e-18,  9.45287570e-19, ...,\n",
       "        -2.81479218e-18, -4.52038480e-16,  3.42733338e-18]])"
      ]
     },
     "execution_count": 219,
     "metadata": {},
     "output_type": "execute_result"
    }
   ],
   "source": [
    "eigen_vecs.real.T"
   ]
  },
  {
   "cell_type": "code",
   "execution_count": 221,
   "id": "10e87a6d",
   "metadata": {},
   "outputs": [
    {
     "data": {
      "text/plain": [
       "array([[ 2.63386507e-01,  2.97138550e-02,  1.79112210e-06, ...,\n",
       "        -9.15459429e-32, -4.58915401e-30, -6.97897715e-31],\n",
       "       [ 9.45827304e-01,  1.06703170e-01,  6.43196269e-06, ...,\n",
       "         2.57948083e-32,  3.14848967e-31, -3.53439052e-32],\n",
       "       [ 1.89695784e-01,  2.14004624e-02,  1.28999893e-06, ...,\n",
       "         7.02596649e-33,  5.06039207e-30,  1.20048681e-30],\n",
       "       ...,\n",
       "       [ 0.00000000e+00,  0.00000000e+00,  0.00000000e+00, ...,\n",
       "         7.26787495e-01, -3.51240715e-01,  2.98684456e-01],\n",
       "       [ 0.00000000e+00,  0.00000000e+00,  0.00000000e+00, ...,\n",
       "         2.00809620e-01, -1.31625550e-01,  1.43894274e-01],\n",
       "       [ 0.00000000e+00,  0.00000000e+00,  0.00000000e+00, ...,\n",
       "         3.60096417e-02, -3.14722860e-02,  4.31289175e-02]])"
      ]
     },
     "execution_count": 221,
     "metadata": {},
     "output_type": "execute_result"
    }
   ],
   "source": [
    "B.real"
   ]
  },
  {
   "cell_type": "code",
   "execution_count": 222,
   "id": "16534d2e",
   "metadata": {},
   "outputs": [
    {
     "data": {
      "text/plain": [
       "array([[ 7.63173476, 18.18945851,  0.        , ...,  0.        ,\n",
       "         0.        ,  0.        ],\n",
       "       [18.18945851, 65.31888984, 12.79599115, ...,  0.        ,\n",
       "         0.        ,  0.        ],\n",
       "       [ 0.        , 12.79599115,  9.04977682, ...,  0.        ,\n",
       "         0.        ,  0.        ],\n",
       "       ...,\n",
       "       [ 0.        ,  0.        ,  0.        , ...,  5.86655821,\n",
       "         1.52842405,  0.        ],\n",
       "       [ 0.        ,  0.        ,  0.        , ...,  1.52842405,\n",
       "         2.26321855,  0.99942448],\n",
       "       [ 0.        ,  0.        ,  0.        , ...,  0.        ,\n",
       "         0.99942448,  2.40089976]])"
      ]
     },
     "execution_count": 222,
     "metadata": {},
     "output_type": "execute_result"
    }
   ],
   "source": [
    "Hk"
   ]
  },
  {
   "cell_type": "code",
   "execution_count": null,
   "id": "2389beeb",
   "metadata": {},
   "outputs": [],
   "source": []
  },
  {
   "cell_type": "code",
   "execution_count": 88,
   "id": "96756874",
   "metadata": {},
   "outputs": [],
   "source": [
    "def svd_simultaneous_power_iteration(A, k, epsilon=0.00001):\n",
    "    #source http://mlwiki.org/index.php/Power_Iteration\n",
    "    #adjusted to work with n<m and n>m matrices\n",
    "    n_orig, m_orig = A.shape\n",
    "    if k is None:\n",
    "        k=min(n_orig,m_orig)\n",
    "    A_orig=A.copy()\n",
    "    if n_orig > m_orig:\n",
    "        A = A.T @ A\n",
    "        n, m = A.shape\n",
    "    elif n_orig < m_orig:\n",
    "        A = A @ A.T\n",
    "        n, m = A.shape\n",
    "    else:\n",
    "        n,m=n_orig, m_orig\n",
    "        \n",
    "    Q = np.random.rand(n, k)\n",
    "    Q, _ = np.linalg.qr(Q)\n",
    "    Q_prev = Q\n",
    "    #this part does the block power iteration\n",
    "    for i in range(1000):\n",
    "        Z = A @ Q\n",
    "        Q, R = np.linalg.qr(Z)\n",
    "        err = ((Q - Q_prev) ** 2).sum()\n",
    "        Q_prev = Q\n",
    "        if err < epsilon:\n",
    "            break\n",
    "            \n",
    "    singular_values=np.sqrt(np.diag(R)) \n",
    "    #deal with different shape input matrices\n",
    "    if n_orig < m_orig: \n",
    "        left_vecs=Q.T\n",
    "        #use property Values @ V = U.T@A => V=inv(Values)@U.T@A\n",
    "        right_vecs=np.linalg.inv(np.diag(singular_values))@left_vecs.T@A_orig\n",
    "    elif n_orig==m_orig:\n",
    "        left_vecs=Q.T\n",
    "        right_vecs=left_vecs\n",
    "        singular_values=np.square(singular_values)\n",
    "    else:\n",
    "        right_vecs=Q.T\n",
    "        #use property Values @ V = U.T@A => U=A@V@inv(Values)\n",
    "        left_vecs=A_orig@ right_vecs.T @np.linalg.inv(np.diag(singular_values))\n",
    "\n",
    "    return left_vecs, singular_values, right_vecs"
   ]
  },
  {
   "cell_type": "code",
   "execution_count": 2,
   "id": "dfaeaf1e",
   "metadata": {},
   "outputs": [],
   "source": [
    "import numpy as np\n",
    "import numpy.linalg as la\n",
    "import copy as cp\n",
    "\n",
    "#Generates the representation in Krylov subspace of a Hermitian NxN matrix using the Lanczos algorithm and an initial vector guess vg.\n",
    "def Lanczos(H,vg):\n",
    "    Lv=np.zeros((len(vg),len(vg)), dtype=complex) #Creates matrix for Lanczos vectors\n",
    "    Hk=np.zeros((len(vg),len(vg)), dtype=complex) #Creates matrix for the Hamiltonian in Krylov subspace\n",
    "    Lv[0]=vg/la.norm(vg) #Creates the first Lanczos vector as the normalized guess vector vg\n",
    "     \n",
    "    #Performs the first iteration step of the Lanczos algorithm\n",
    "    w=np.dot(H,Lv[0]) \n",
    "    a=np.dot(np.conj(w),Lv[0])\n",
    "    w=w-a*Lv[0]\n",
    "    Hk[0,0]=a\n",
    "     \n",
    "    #Performs the iterative steps of the Lanczos algorithm\n",
    "    for j in range(1,len(vg)):\n",
    "        b=(np.dot(np.conj(w),np.transpose(w)))**0.5\n",
    "        Lv[j]=w/b\n",
    "         \n",
    "        w=np.dot(H,Lv[j])\n",
    "        a=np.dot(np.conj(w),Lv[j])\n",
    "        w=w-a*Lv[j]-b*Lv[j-1]\n",
    "        \n",
    "        #Creates tridiagonal matrix Hk using a and b values\n",
    "        Hk[j,j]=a\n",
    "        Hk[j-1,j]=b\n",
    "        Hk[j,j-1]=np.conj(b)\n",
    "        \n",
    "    return (Hk,Lv)"
   ]
  },
  {
   "cell_type": "code",
   "execution_count": 95,
   "id": "ebfd9c2b",
   "metadata": {},
   "outputs": [],
   "source": [
    "import numpy as np\n",
    "import scipy.sparse as sp\n",
    "import warnings\n",
    "#import pdb\n",
    "\n",
    "# Matrix-vector product wrapper\n",
    "# A is a numpy 2d array or matrix, or a scipy matrix or sparse matrix.\n",
    "# x is a numpy vector only.\n",
    "# Compute A.dot(x) if t is False,\n",
    "#         A.transpose().dot(x)  otherwise.\n",
    "def mult(A,x,t=False):\n",
    "    if(sp.issparse(A)):\n",
    "        m = A.shape[0]\n",
    "        n = A.shape[1]\n",
    "        if(t):\n",
    "            return(sp.csr_matrix(x).dot(A).transpose().todense().A[:,0])    \n",
    "        return(A.dot(sp.csr_matrix(x).transpose()).todense().A[:,0])\n",
    "    if(t):\n",
    "        return(x.dot(A))\n",
    "    return(A.dot(x))\n",
    "\n",
    "def orthog(Y,X):\n",
    "    \"\"\"Orthogonalize a vector or matrix Y against the columns of the matrix X.\n",
    "  This function requires that the column dimension of Y is less than X and\n",
    "  that Y and X have the same number of rows.\n",
    "    \"\"\"\n",
    "    dotY = mult(X,Y,t=True)\n",
    "    return (Y - mult(X,dotY))\n",
    "\n",
    "# Simple utility function used to check linear dependencies during computation:\n",
    "def invcheck(x):\n",
    "    eps2 = 2*np.finfo(np.float).eps\n",
    "    if(x>eps2):\n",
    "        x = 1/x\n",
    "    else:\n",
    "        x = 0\n",
    "    warnings.warn(\"Ill-conditioning encountered, result accuracy may be poor\")\n",
    "    return(x)\n",
    "\n",
    "def irlb(A,n,tol=0.0001,maxit=50):\n",
    "    \"\"\"Estimate a few of the largest singular values and corresponding singular\n",
    "  vectors of matrix using the implicitly restarted Lanczos bidiagonalization\n",
    "  method of Baglama and Reichel, see:\n",
    "  Augmented Implicitly Restarted Lanczos Bidiagonalization Methods,\n",
    "  J. Baglama and L. Reichel, SIAM J. Sci. Comput. 2005\n",
    "  Keyword arguments:\n",
    "  tol   -- An estimation tolerance. Smaller means more accurate estimates.\n",
    "  maxit -- Maximum number of Lanczos iterations allowed.\n",
    "  Given an input matrix A of dimension j * k, and an input desired number\n",
    "  of singular values n, the function returns a tuple X with five entries:\n",
    "  X[0] A j * nu matrix of estimated left singular vectors.\n",
    "  X[1] A vector of length nu of estimated singular values.\n",
    "  X[2] A k * nu matrix of estimated right singular vectors.\n",
    "  X[3] The number of Lanczos iterations run.\n",
    "  X[4] The number of matrix-vector products run.\n",
    "  The algorithm estimates the truncated singular value decomposition:\n",
    "  A.dot(X[2]) = X[0]*X[1].\n",
    "  \"\"\"\n",
    "    nu     = n\n",
    "    m      = A.shape[0]\n",
    "    n      = A.shape[1]\n",
    "    if(min(m,n)<2):\n",
    "        raise Exception(\"The input matrix must be at least 2x2.\")\n",
    "    m_b    = min((nu+20, 3*nu, n))  # Working dimension size\n",
    "    mprod  = 0\n",
    "    it     = 0\n",
    "    j      = 0\n",
    "    k      = nu\n",
    "    smax   = 1\n",
    "    sparse = sp.issparse(A)\n",
    "\n",
    "    V  = np.zeros((n,m_b))\n",
    "    W  = np.zeros((m,m_b))\n",
    "    F  = np.zeros((n,1))\n",
    "    B  = np.zeros((m_b,m_b))\n",
    "\n",
    "    V[:,0]  = np.random.randn(n) # Initial vector\n",
    "    V[:,0]  = V[:,0]/np.linalg.norm(V)\n",
    "\n",
    "    while(it < maxit):\n",
    "        if(it>0): \n",
    "            j=k\n",
    "        W[:,j] = mult(A,V[:,j])\n",
    "        mprod+=1\n",
    "        if(it>0):\n",
    "            W[:,j] = orthog(W[:,j],W[:,0:j]) # NB W[:,0:j] selects columns 0,1,...,j-1\n",
    "        s = np.linalg.norm(W[:,j])\n",
    "        sinv = invcheck(s)\n",
    "        W[:,j] = sinv*W[:,j]\n",
    "        # Lanczos process\n",
    "        while(j<m_b):\n",
    "            F = mult(A,W[:,j],t=True)\n",
    "            mprod+=1\n",
    "            F = F - s*V[:,j]\n",
    "            F = orthog(F,V[:,0:j+1])\n",
    "            fn = np.linalg.norm(F)\n",
    "            fninv= invcheck(fn)\n",
    "            F  = fninv * F\n",
    "            if(j<m_b-1):\n",
    "                V[:,j+1] = F\n",
    "                B[j,j] = s\n",
    "                B[j,j+1] = fn \n",
    "                W[:,j+1] = mult(A,V[:,j+1])\n",
    "                mprod+=1\n",
    "                # One step of classical Gram-Schmidt...\n",
    "                W[:,j+1] = W[:,j+1] - fn*W[:,j]\n",
    "                # ...with full reorthogonalization\n",
    "                W[:,j+1] = orthog(W[:,j+1],W[:,0:(j+1)])\n",
    "                s = np.linalg.norm(W[:,j+1])\n",
    "                sinv = invcheck(s) \n",
    "                W[:,j+1] = sinv * W[:,j+1]\n",
    "            else:\n",
    "                B[j,j] = s\n",
    "            j+=1\n",
    "        # End of Lanczos process\n",
    "        S = np.linalg.svd(B)\n",
    "        R = fn * S[0][m_b-1,:] # Residuals\n",
    "        if(it<1):\n",
    "            smax = S[1][0]  # Largest Ritz value\n",
    "        else:\n",
    "            smax = max((S[1][0],smax))\n",
    "\n",
    "        conv = sum(np.abs(R[0:nu]) < tol*smax)\n",
    "        if(conv < nu):  # Not coverged yet\n",
    "            k = max(conv+nu,k)\n",
    "            k = min(k,m_b-3)\n",
    "        else:\n",
    "            break\n",
    "        # Update the Ritz vectors\n",
    "        V[:,0:k] = V[:,0:m_b].dot(S[2].transpose()[:,0:k])\n",
    "        V[:,k] = F \n",
    "        B = np.zeros((m_b,m_b))\n",
    "        # Improve this! There must be better way to assign diagonal...\n",
    "        for l in range(0,k):\n",
    "            B[l,l] = S[1][l]\n",
    "        B[0:k,k] = R[0:k]\n",
    "        # Update the left approximate singular vectors\n",
    "        W[:,0:k] = W[:,0:m_b].dot(S[0][:,0:k])\n",
    "        it+=1\n",
    "\n",
    "    U = W[:,0:m_b].dot(S[0][:,0:nu])\n",
    "    V = V[:,0:m_b].dot(S[2].transpose()[:,0:nu])\n",
    "    return((U,S[1][0:nu],V,it,mprod))"
   ]
  },
  {
   "cell_type": "code",
   "execution_count": 96,
   "id": "9c9bd411",
   "metadata": {},
   "outputs": [
    {
     "name": "stderr",
     "output_type": "stream",
     "text": [
      "/var/folders/cd/w1f7xydj207_nsn7j5krs5940000gn/T/ipykernel_69107/3565503635.py:32: DeprecationWarning: `np.float` is a deprecated alias for the builtin `float`. To silence this warning, use `float` by itself. Doing this will not modify any behavior and is safe. If you specifically wanted the numpy scalar type, use `np.float64` here.\n",
      "Deprecated in NumPy 1.20; for more details and guidance: https://numpy.org/devdocs/release/1.20.0-notes.html#deprecations\n",
      "  eps2 = 2*np.finfo(np.float).eps\n",
      "/var/folders/cd/w1f7xydj207_nsn7j5krs5940000gn/T/ipykernel_69107/3565503635.py:37: UserWarning: Ill-conditioning encountered, result accuracy may be poor\n",
      "  warnings.warn(\"Ill-conditioning encountered, result accuracy may be poor\")\n"
     ]
    }
   ],
   "source": [
    "A = np.array([[1,2,3],[4,5,6],[7,8,9]])             \n",
    "t = irlb(X,10)"
   ]
  },
  {
   "cell_type": "code",
   "execution_count": 97,
   "id": "c54cf4d8",
   "metadata": {},
   "outputs": [
    {
     "data": {
      "text/plain": [
       "(array([[-0.04178027,  0.00931122, -0.03295457, ..., -0.01039195,\n",
       "          0.11934285,  0.00405195],\n",
       "        [-0.00040957,  0.00335001, -0.00521394, ..., -0.00548173,\n",
       "          0.00374755, -0.00898227],\n",
       "        [-0.00041654,  0.00176536, -0.00411928, ..., -0.00290501,\n",
       "          0.00148196,  0.00113503],\n",
       "        ...,\n",
       "        [-0.03867424, -0.0462926 , -0.01045533, ..., -0.0193113 ,\n",
       "          0.00643976, -0.00831421],\n",
       "        [-0.01415396,  0.00063141, -0.02029159, ...,  0.02789658,\n",
       "          0.00228445, -0.02044759],\n",
       "        [-0.00366695,  0.00930094, -0.02707906, ..., -0.03221386,\n",
       "          0.03643495,  0.01172821]]),\n",
       " array([161.83088837,  67.65166504,  61.90599515,  59.22601336,\n",
       "         58.40466604,  54.49761659,  53.50665832,  50.76283832,\n",
       "         48.60814425,  47.46143172]),\n",
       " array([[-3.88066156e-05,  5.31474041e-04, -1.18008229e-03, ...,\n",
       "         -2.59763990e-03,  3.33108857e-03, -9.98475579e-05],\n",
       "        [-1.79176451e-05,  1.32436239e-04, -2.49498563e-04, ...,\n",
       "         -2.13292279e-04, -4.41326496e-05, -9.11673573e-05],\n",
       "        [-5.38520842e-03, -7.19117769e-03,  7.77346629e-03, ...,\n",
       "         -1.22017652e-02,  2.25803329e-04,  7.56392432e-03],\n",
       "        ...,\n",
       "        [-5.88170736e-04, -2.43777499e-03, -1.48969785e-04, ...,\n",
       "         -3.90781852e-02,  2.10072981e-02, -3.38369147e-02],\n",
       "        [-2.86402061e-04, -1.63741979e-03,  4.00661858e-04, ...,\n",
       "         -1.95597363e-02,  8.28834042e-03, -1.67123935e-02],\n",
       "        [-1.91539542e-04, -1.80136506e-03,  2.36956166e-04, ...,\n",
       "         -2.78514008e-03,  2.74668576e-04, -2.22433640e-03]]),\n",
       " 1,\n",
       " 82)"
      ]
     },
     "execution_count": 97,
     "metadata": {},
     "output_type": "execute_result"
    }
   ],
   "source": [
    "t"
   ]
  },
  {
   "cell_type": "code",
   "execution_count": 93,
   "id": "c452b455",
   "metadata": {},
   "outputs": [
    {
     "data": {
      "text/plain": [
       "(array([[-4.17802724e-02,  9.31122271e-03, -3.29545731e-02, ...,\n",
       "          8.52306984e-19, -2.91095147e-04,  1.72295972e-04],\n",
       "        [-4.09565800e-04,  3.35000870e-03, -5.21393983e-03, ...,\n",
       "          1.18376355e-16, -7.02378257e-05, -1.45391186e-05],\n",
       "        [-4.16536786e-04,  1.76536085e-03, -4.11927684e-03, ...,\n",
       "         -1.35193208e-16, -1.79546833e-04, -6.26101026e-04],\n",
       "        ...,\n",
       "        [-3.86742388e-02, -4.62925960e-02, -1.04553338e-02, ...,\n",
       "         -5.96399899e-17, -3.36229122e-06, -7.49653165e-04],\n",
       "        [-1.41539553e-02,  6.31413287e-04, -2.02915883e-02, ...,\n",
       "         -1.04380113e-16,  1.50695044e-04, -5.07973548e-04],\n",
       "        [-3.66695138e-03,  9.30093840e-03, -2.70790569e-02, ...,\n",
       "         -2.40627792e-17, -1.52285710e-04, -2.75599129e-04]]),\n",
       " array([161.83088837,  67.65166504,  61.90599515,  59.22601336,\n",
       "         58.40466604,  54.49761659,  53.50665832,  50.76283832,\n",
       "         48.60814425,  47.46143172,  45.94116865,  45.38479686,\n",
       "         44.11430121,  43.6040937 ,  42.65526863,  42.58384954,\n",
       "         42.15633715,  40.7849152 ,  40.07412795,  39.77110555,\n",
       "         39.46779763,  38.96227174,  38.79039228,  38.46972464,\n",
       "         38.05944428,  37.77090685,  37.55211109,  37.37599785,\n",
       "         37.11042715,  36.42208831,  36.19885981,  35.90369368,\n",
       "         35.44132828,  35.29592514,  35.1364498 ,  35.03941592,\n",
       "         34.99264454,  34.64323171,  34.24724531,  34.07898608,\n",
       "         33.82293299,  33.77307622,  33.48249475,  33.45561912,\n",
       "         33.29216099,  33.19463555,  33.0467143 ,  32.76792667,\n",
       "         32.73674325,  32.46078109,  32.31898565,  32.27665623,\n",
       "         32.15605065,  31.95502923,  31.72157788,  31.6558276 ,\n",
       "         31.44454583,  31.38692086,  31.27738383,  31.1907864 ,\n",
       "         31.05725091,  30.88768328,  30.83823961,  30.69977785,\n",
       "         30.63172014,  30.48346028,  30.30093153,  30.13696324,\n",
       "         30.07332157,  29.95414182,  29.83755951,  29.73940982,\n",
       "         29.49866436,  29.43073913,  29.3312388 ,  29.32577153,\n",
       "         29.13665731,  29.06615093,  28.89619361,  28.86585494,\n",
       "         28.77355507,  28.68545762,  28.47578098,  28.38847732,\n",
       "         28.36695188,  28.20843924,  28.13045808,  28.1053147 ,\n",
       "         28.03511543,  27.86493885,  27.82106503,  27.77655902,\n",
       "         27.69353577,  27.50404757,  27.43242873,  27.39414801,\n",
       "         27.29689287,  27.22942038,  27.13633456,  27.08481557,\n",
       "         27.05471091,  26.96349365,  26.93147555,  26.86512976,\n",
       "         26.75421879,  26.66058735,  26.60523072,  26.54347248,\n",
       "         26.40214511,  26.26619355,  26.21644721,  26.16459115,\n",
       "         26.10361988,  26.08026605,  26.00199535,  25.97520368,\n",
       "         25.84705794,  25.80782212,  25.77395173,  25.60834228,\n",
       "         25.53364132,  25.50617795,  25.41639315,  25.21839854,\n",
       "         25.16574432,  25.09276732,  25.06788342,  25.033683  ,\n",
       "         24.95981061,  24.90013318,  24.84225256,  24.80908821,\n",
       "         24.7495241 ,  24.61672588,  24.57779734,  24.51819132,\n",
       "         24.40057504,  24.35613987,  24.32441413,  24.19946665,\n",
       "         24.12493776,  24.12408643,  24.06112381,  24.0012536 ,\n",
       "         23.94365848,  23.90952458,  23.79500901,  23.74794914,\n",
       "         23.71310752,  23.55867323,  23.46551161,  23.4273333 ,\n",
       "         23.3885413 ,  23.33940489,  23.22372295,  23.18914476,\n",
       "         23.14732542,  23.09135929,  23.06681754,  22.97564508,\n",
       "         22.90563004,  22.85026091,  22.73985258,  22.72063028,\n",
       "         22.66479447,  22.52892566,  22.4946693 ,  22.4790383 ,\n",
       "         22.37668619,  22.31114137,  22.22386843,  22.15438091,\n",
       "         22.13125984,  22.04805171,  22.00885916,  21.9823191 ,\n",
       "         21.90788201,  21.85550373,  21.81155664,  21.73590774,\n",
       "         21.66591834,  21.59928576,  21.48778693,  21.4566262 ,\n",
       "         21.40529555,  21.32976147,  21.25508492,  21.18829731,\n",
       "         21.14207414,  21.08460181,  21.05450161,  20.98616291,\n",
       "         20.86095188,  20.84990166,  20.79258995,  20.69737897,\n",
       "         20.63175368,  20.61712325,  20.55327771,  20.49324477,\n",
       "         20.47433396,  20.40039899,  20.2952375 ,  20.22807688,\n",
       "         20.18958733,  20.17755612,  20.11387163,  20.07101891,\n",
       "         19.93202517,  19.89933219,  19.86835585,  19.82126826,\n",
       "         19.76548713,  19.72751561,  19.68469902,  19.63109681,\n",
       "         19.62142197,  19.57115046,  19.53969474,  19.46292075,\n",
       "         19.39220823,  19.3703443 ,  19.3098152 ,  19.24803703,\n",
       "         19.16217764,  19.14355349,  19.08799599,  18.99946322,\n",
       "         18.8567513 ,  18.85167217,  18.80267584,  18.71206051,\n",
       "         18.66584586,  18.63549389,  18.5884663 ,  18.57459435,\n",
       "         18.49452511,  18.47296581,  18.42322216,  18.35198565,\n",
       "         18.32814335,  18.21533719,  18.16221588,  18.14211655,\n",
       "         18.09586357,  18.01823985,  17.95214496,  17.91334297,\n",
       "         17.8745709 ,  17.76624446,  17.72659171,  17.701577  ,\n",
       "         17.66221424,  17.59066684,  17.53996757,  17.51795955,\n",
       "         17.4202509 ,  17.36242279,  17.28424996,  17.25318551,\n",
       "         17.21424645,  17.138973  ,  17.04760165,  17.02574216,\n",
       "         16.98867801,  16.93122917,  16.85916139,  16.83468672,\n",
       "         16.73222353,  16.6779401 ,  16.57933517,  16.54540245,\n",
       "         16.50027   ,  16.4788972 ,  16.43278213,  16.37414605,\n",
       "         16.35612101,  16.28600726,  16.19818672,  16.1336638 ,\n",
       "         16.09228042,  16.02810441,  15.9331079 ,  15.89112988,\n",
       "         15.8414035 ,  15.77183672,  15.70205491,  15.67029851,\n",
       "         15.56380258,  15.44441036,  15.40302335,  15.33077491,\n",
       "         15.27354674,  15.25626303,  15.15433108,  15.10010999,\n",
       "         15.05443272,  14.93471773,  14.86356862,  14.77516554,\n",
       "         14.69874181,  14.65841296,  14.57645406,  14.52435965,\n",
       "         14.48748381,  14.47227867,  14.34946485,  14.23044621,\n",
       "         14.18210877,  14.14286882,  13.97022411,  13.8972766 ,\n",
       "         13.82538043,  13.71258955,  13.62932556,  13.60610527,\n",
       "         13.52883046,  13.47829638,  13.3856775 ,  13.34906591,\n",
       "         13.27696191,  13.190778  ,  13.12025931,  13.03140812,\n",
       "         12.95600121,  12.88545891,  12.78163982,  12.61721785,\n",
       "         12.53694405,  12.52996409,  12.39358948,  12.31289969,\n",
       "         12.2912637 ,  12.22735941,  12.10088264,  11.90684177,\n",
       "         11.82232735,  11.81068265,  11.65429493,  11.59413688,\n",
       "         11.24630262,  10.81597761,  10.47887155,  10.13464814,\n",
       "          9.83418153,   9.70529234,   9.07428513,   9.05735019,\n",
       "          9.00920692,   8.60773676,   8.34399212,   7.35870691,\n",
       "          7.1768751 ,   7.05359726,   6.29612239,   6.25278825,\n",
       "          5.666292  ,   5.        ,   4.79064474,   1.92576775]),\n",
       " array([[-3.88066156e-05, -1.79176451e-05, -5.38520842e-03, ...,\n",
       "         -5.88170736e-04, -2.86402061e-04, -1.91539542e-04],\n",
       "        [ 5.31474041e-04,  1.32436239e-04, -7.19117769e-03, ...,\n",
       "         -2.43777499e-03, -1.63741979e-03, -1.80136506e-03],\n",
       "        [-1.18008229e-03, -2.49498563e-04,  7.77346629e-03, ...,\n",
       "         -1.48969785e-04,  4.00661858e-04,  2.36956166e-04],\n",
       "        ...,\n",
       "        [ 2.89780286e-03,  2.47495194e-05, -3.94941199e-03, ...,\n",
       "          9.53945107e-01, -1.60098517e-02, -1.41815552e-03],\n",
       "        [ 2.98472754e-03,  9.29198767e-04, -7.34576751e-03, ...,\n",
       "         -1.62444082e-02,  9.34747410e-01, -1.20688946e-03],\n",
       "        [-1.76532104e-03,  4.24079392e-04,  4.29905581e-03, ...,\n",
       "          4.20161188e-04, -1.39126098e-03,  9.52482193e-01]]))"
      ]
     },
     "execution_count": 93,
     "metadata": {},
     "output_type": "execute_result"
    }
   ],
   "source": [
    "np.linalg.svd(X)"
   ]
  },
  {
   "cell_type": "code",
   "execution_count": 98,
   "id": "99468c0f",
   "metadata": {},
   "outputs": [
    {
     "ename": "ValueError",
     "evalue": "matmul: Input operand 1 has a mismatch in its core dimension 0, with gufunc signature (n?,k),(k,m?)->(n?,m?) (size 360 is different from 10)",
     "output_type": "error",
     "traceback": [
      "\u001b[0;31m---------------------------------------------------------------------------\u001b[0m",
      "\u001b[0;31mValueError\u001b[0m                                Traceback (most recent call last)",
      "Input \u001b[0;32mIn [98]\u001b[0m, in \u001b[0;36m<cell line: 1>\u001b[0;34m()\u001b[0m\n\u001b[0;32m----> 1\u001b[0m \u001b[43msvd_simultaneous_power_iteration\u001b[49m\u001b[43m(\u001b[49m\u001b[43mX\u001b[49m\u001b[43m,\u001b[49m\u001b[43m \u001b[49m\u001b[38;5;241;43m10\u001b[39;49m\u001b[43m)\u001b[49m\n",
      "Input \u001b[0;32mIn [88]\u001b[0m, in \u001b[0;36msvd_simultaneous_power_iteration\u001b[0;34m(A, k, epsilon)\u001b[0m\n\u001b[1;32m     32\u001b[0m     left_vecs\u001b[38;5;241m=\u001b[39mQ\u001b[38;5;241m.\u001b[39mT\n\u001b[1;32m     33\u001b[0m     \u001b[38;5;66;03m#use property Values @ V = U.T@A => V=inv(Values)@U.T@A\u001b[39;00m\n\u001b[0;32m---> 34\u001b[0m     right_vecs\u001b[38;5;241m=\u001b[39m\u001b[43mnp\u001b[49m\u001b[38;5;241;43m.\u001b[39;49m\u001b[43mlinalg\u001b[49m\u001b[38;5;241;43m.\u001b[39;49m\u001b[43minv\u001b[49m\u001b[43m(\u001b[49m\u001b[43mnp\u001b[49m\u001b[38;5;241;43m.\u001b[39;49m\u001b[43mdiag\u001b[49m\u001b[43m(\u001b[49m\u001b[43msingular_values\u001b[49m\u001b[43m)\u001b[49m\u001b[43m)\u001b[49m\u001b[38;5;129;43m@left_vecs\u001b[39;49m\u001b[38;5;241;43m.\u001b[39;49m\u001b[43mT\u001b[49m\u001b[38;5;129m@A_orig\u001b[39m\n\u001b[1;32m     35\u001b[0m \u001b[38;5;28;01melif\u001b[39;00m n_orig\u001b[38;5;241m==\u001b[39mm_orig:\n\u001b[1;32m     36\u001b[0m     left_vecs\u001b[38;5;241m=\u001b[39mQ\u001b[38;5;241m.\u001b[39mT\n",
      "\u001b[0;31mValueError\u001b[0m: matmul: Input operand 1 has a mismatch in its core dimension 0, with gufunc signature (n?,k),(k,m?)->(n?,m?) (size 360 is different from 10)"
     ]
    }
   ],
   "source": [
    "svd_simultaneous_power_iteration(X, 10)"
   ]
  },
  {
   "cell_type": "code",
   "execution_count": 104,
   "id": "0628bb4f",
   "metadata": {},
   "outputs": [],
   "source": [
    "from numpy.linalg import norm\n",
    "\n",
    "from random import normalvariate\n",
    "from math import sqrt\n",
    "\n",
    "\n",
    "def randomUnitVector(n):\n",
    "    unnormalized = [normalvariate(0, 1) for _ in range(n)]\n",
    "    theNorm = sqrt(sum(x * x for x in unnormalized))\n",
    "    return [x / theNorm for x in unnormalized]\n",
    "\n",
    "\n",
    "def svd_1d(A, epsilon=1e-10):\n",
    "    ''' The one-dimensional SVD '''\n",
    "\n",
    "    n, m = A.shape\n",
    "    x = randomUnitVector(min(n,m))\n",
    "    lastV = None\n",
    "    currentV = x\n",
    "\n",
    "    if n > m:\n",
    "        B = np.dot(A.T, A)\n",
    "    else:\n",
    "        B = np.dot(A, A.T)\n",
    "\n",
    "    iterations = 0\n",
    "    while True:\n",
    "        iterations += 1\n",
    "        lastV = currentV\n",
    "        currentV = np.dot(B, lastV)\n",
    "        currentV = currentV / norm(currentV)\n",
    "\n",
    "        if abs(np.dot(currentV, lastV)) > 1 - epsilon:\n",
    "            print(\"converged in {} iterations!\".format(iterations))\n",
    "            return currentV\n",
    "\n",
    "\n",
    "def svd(A, k=None, epsilon=1e-10):\n",
    "    '''\n",
    "        Compute the singular value decomposition of a matrix A\n",
    "        using the power method. A is the input matrix, and k\n",
    "        is the number of singular values you wish to compute.\n",
    "        If k is None, this computes the full-rank decomposition.\n",
    "    '''\n",
    "    A = np.array(A, dtype=float)\n",
    "    n, m = A.shape\n",
    "    svdSoFar = []\n",
    "    if k is None:\n",
    "        k = min(n, m)\n",
    "\n",
    "    for i in range(k):\n",
    "        matrixFor1D = A.copy()\n",
    "\n",
    "        for singularValue, u, v in svdSoFar[:i]:\n",
    "            matrixFor1D -= singularValue * np.outer(u, v)\n",
    "\n",
    "        if n > m:\n",
    "            v = svd_1d(matrixFor1D, epsilon=epsilon)  # next singular vector\n",
    "            u_unnormalized = np.dot(A, v)\n",
    "            sigma = norm(u_unnormalized)  # next singular value\n",
    "            u = u_unnormalized / sigma\n",
    "        else:\n",
    "            u = svd_1d(matrixFor1D, epsilon=epsilon)  # next singular vector\n",
    "            v_unnormalized = np.dot(A.T, u)\n",
    "            sigma = norm(v_unnormalized)  # next singular value\n",
    "            v = v_unnormalized / sigma\n",
    "\n",
    "        svdSoFar.append((sigma, u, v))\n",
    "\n",
    "    singularValues, us, vs = [np.array(x) for x in zip(*svdSoFar)]\n",
    "    return singularValues, us.T, vs"
   ]
  },
  {
   "cell_type": "code",
   "execution_count": 106,
   "id": "d89dddeb",
   "metadata": {},
   "outputs": [
    {
     "name": "stdout",
     "output_type": "stream",
     "text": [
      "converged in 8 iterations!\n",
      "converged in 56 iterations!\n",
      "converged in 70 iterations!\n",
      "converged in 223 iterations!\n",
      "converged in 86 iterations!\n",
      "converged in 179 iterations!\n",
      "converged in 103 iterations!\n",
      "converged in 83 iterations!\n",
      "converged in 169 iterations!\n",
      "converged in 136 iterations!\n"
     ]
    },
    {
     "data": {
      "text/plain": [
       "(array([161.83088837,  67.65166502,  61.90599514,  59.22601316,\n",
       "         58.40466624,  54.49761649,  53.50665841,  50.76283831,\n",
       "         48.6081442 ,  47.46143175]),\n",
       " array([[ 0.04178026,  0.00931347,  0.03295224, ...,  0.01037693,\n",
       "         -0.11934554, -0.004019  ],\n",
       "        [ 0.00040956,  0.00335038,  0.00521521, ...,  0.00548091,\n",
       "         -0.00374578,  0.00899177],\n",
       "        [ 0.00041653,  0.00176565,  0.00412005, ...,  0.00290596,\n",
       "         -0.00148271, -0.001132  ],\n",
       "        ...,\n",
       "        [ 0.03867421, -0.04629189,  0.01045808, ...,  0.01931354,\n",
       "         -0.00644023,  0.00832   ],\n",
       "        [ 0.01415393,  0.00063282,  0.02029274, ..., -0.02789821,\n",
       "         -0.00227447,  0.02044847],\n",
       "        [ 0.00366691,  0.00930285,  0.02708594, ...,  0.03221257,\n",
       "         -0.03644306, -0.0117006 ]]),\n",
       " array([[ 3.88058057e-05,  1.79175157e-05,  5.38520927e-03, ...,\n",
       "          5.88169961e-04,  2.86401897e-04,  1.91539121e-04],\n",
       "        [ 5.31550423e-04,  1.32452330e-04, -7.19167287e-03, ...,\n",
       "         -2.43776390e-03, -1.63744470e-03, -1.80137940e-03],\n",
       "        [ 1.18014663e-03,  2.49555709e-04, -7.77266786e-03, ...,\n",
       "          1.49584810e-04, -4.00403847e-04, -2.36662447e-04],\n",
       "        ...,\n",
       "        [ 2.59734501e-03,  2.13297489e-04,  1.22010564e-02, ...,\n",
       "          3.90724719e-02,  1.95569650e-02,  2.78471634e-03],\n",
       "        [-3.33146104e-03,  4.41250597e-05, -2.29801140e-04, ...,\n",
       "         -2.10038628e-02, -8.28668370e-03, -2.74476424e-04],\n",
       "        [ 1.06490194e-04,  9.14699326e-05, -7.56157445e-03, ...,\n",
       "          3.38449103e-02,  1.67151509e-02,  2.22472049e-03]]))"
      ]
     },
     "execution_count": 106,
     "metadata": {},
     "output_type": "execute_result"
    }
   ],
   "source": [
    "svd(X, 10)"
   ]
  },
  {
   "cell_type": "code",
   "execution_count": 56,
   "id": "ab42db78",
   "metadata": {},
   "outputs": [],
   "source": [
    "def set_lowVal_zero(X):\n",
    "    low_values_indices = abs(X) < 9e-15   # where values are low\n",
    "    X[low_values_indices] = 0             # all low values set to 0\n",
    "    return X\n",
    "def Householder(x, i):\n",
    "    alpha = -np.sign(x[i]) * np.linalg.norm(x)\n",
    "    e = np.zeros(len(x)); e[i] = 1.0\n",
    "    \n",
    "    v = (x - alpha * e)\n",
    "    w = v / np.linalg.norm(v)\n",
    "    P = np.eye(len(x)) - 2 * np.outer(w, w.T)\n",
    "    \n",
    "    return P\n",
    "def Golub_Kahan(X):\n",
    "    col = X.shape[1]\n",
    "    row = X.shape[0]\n",
    "    \n",
    "    J = X.copy()\n",
    "\n",
    "    for i in range(col - 2):\n",
    "        # column\n",
    "        h = np.zeros(len(J[:, i]))\n",
    "        h[i:] = J[i:, i]\n",
    "        P = Householder(h, i)\n",
    "        J = set_lowVal_zero(P @ J)\n",
    "#         print(J, '\\n')\n",
    "\n",
    "        # row\n",
    "        h = np.zeros(len(J[i, :]))\n",
    "        h[i+1:] = J[i, i+1:] \n",
    "        Q = Householder(h, i+1)\n",
    "        J = set_lowVal_zero(J @ Q)\n",
    "#         print(J, '\\n')\n",
    "        \n",
    "    return J"
   ]
  },
  {
   "cell_type": "code",
   "execution_count": 61,
   "id": "358bacb8",
   "metadata": {},
   "outputs": [],
   "source": [
    "import random\n",
    "A = np.array([[random.randint(1,100) for i in range(100)] for j in range(1000)])"
   ]
  },
  {
   "cell_type": "code",
   "execution_count": 62,
   "id": "c506987c",
   "metadata": {},
   "outputs": [],
   "source": [
    "J = Golub_Kahan(A)"
   ]
  },
  {
   "cell_type": "code",
   "execution_count": 63,
   "id": "2c7ddfb2",
   "metadata": {},
   "outputs": [
    {
     "name": "stdout",
     "output_type": "stream",
     "text": [
      "0.07663893699645996\n"
     ]
    }
   ],
   "source": [
    "start = time.time()\n",
    "x,y,z = np.linalg.svd(A)\n",
    "print(time.time()-start)"
   ]
  },
  {
   "cell_type": "code",
   "execution_count": 64,
   "id": "49278370",
   "metadata": {},
   "outputs": [
    {
     "name": "stdout",
     "output_type": "stream",
     "text": [
      "0.0425410270690918\n"
     ]
    }
   ],
   "source": [
    "start = time.time()\n",
    "a,b,c = np.linalg.svd(J)\n",
    "print(time.time()-start)"
   ]
  },
  {
   "cell_type": "code",
   "execution_count": 77,
   "id": "e2c58be1",
   "metadata": {},
   "outputs": [
    {
     "data": {
      "text/plain": [
       "array([[ 1.00383368e-01, -6.17348157e-02,  3.83490076e-02, ...,\n",
       "         1.83806885e-01, -7.82053326e-02,  1.39339680e-01],\n",
       "       [-9.94892463e-01, -4.83085171e-03,  3.03342511e-03, ...,\n",
       "         2.13817486e-02, -9.10587715e-03,  1.62912940e-02],\n",
       "       [-1.05908834e-02, -1.31142780e-01,  7.84193527e-02, ...,\n",
       "        -2.66686067e-01,  1.14266389e-01, -2.09925392e-01],\n",
       "       ...,\n",
       "       [ 9.94718530e-18, -1.76990512e-17,  7.35189964e-17, ...,\n",
       "        -5.07367453e-17,  2.86466587e-17, -1.01119911e-16],\n",
       "       [ 4.04097071e-17, -7.08292381e-17,  4.14844195e-17, ...,\n",
       "        -1.24705862e-16,  3.24501711e-17, -9.45529881e-17],\n",
       "       [ 2.14648369e-17, -1.54402975e-17, -5.70280474e-18, ...,\n",
       "        -1.39140059e-16, -6.67036028e-18, -2.76933742e-17]])"
      ]
     },
     "execution_count": 77,
     "metadata": {},
     "output_type": "execute_result"
    }
   ],
   "source": [
    "c.T"
   ]
  },
  {
   "cell_type": "code",
   "execution_count": 76,
   "id": "6a68d977",
   "metadata": {},
   "outputs": [
    {
     "data": {
      "text/plain": [
       "array([[-0.10038337, -0.09671509, -0.09909753, ..., -0.09991456,\n",
       "        -0.09918329, -0.09730325],\n",
       "       [-0.06173482,  0.16960964, -0.15376708, ..., -0.21675472,\n",
       "         0.00657244, -0.0423968 ],\n",
       "       [ 0.03834901, -0.10862054, -0.11564818, ..., -0.16491555,\n",
       "        -0.14808381,  0.27528965],\n",
       "       ...,\n",
       "       [ 0.18380689, -0.08894825, -0.1277318 , ...,  0.06456141,\n",
       "        -0.10047648,  0.11324201],\n",
       "       [-0.07820533,  0.19979301, -0.01655909, ..., -0.14120975,\n",
       "         0.13460367,  0.17158803],\n",
       "       [ 0.13933968,  0.05970903, -0.00792578, ...,  0.03977951,\n",
       "         0.06012179, -0.06967841]])"
      ]
     },
     "execution_count": 76,
     "metadata": {},
     "output_type": "execute_result"
    }
   ],
   "source": [
    "z"
   ]
  },
  {
   "attachments": {},
   "cell_type": "markdown",
   "id": "909d2c04",
   "metadata": {},
   "source": [
    "EOF"
   ]
  }
 ],
 "metadata": {
  "kernelspec": {
   "display_name": "Python 3 (ipykernel)",
   "language": "python",
   "name": "python3"
  },
  "language_info": {
   "codemirror_mode": {
    "name": "ipython",
    "version": 3
   },
   "file_extension": ".py",
   "mimetype": "text/x-python",
   "name": "python",
   "nbconvert_exporter": "python",
   "pygments_lexer": "ipython3",
   "version": "3.9.12"
  }
 },
 "nbformat": 4,
 "nbformat_minor": 5
}
